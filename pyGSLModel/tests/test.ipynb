{
 "cells": [
  {
   "cell_type": "markdown",
   "id": "6b0bb6bc",
   "metadata": {},
   "source": [
    "# Testing document for pyGSLModel"
   ]
  },
  {
   "cell_type": "markdown",
   "id": "3f762190",
   "metadata": {},
   "source": [
    "### Testing model download and pruning functions"
   ]
  },
  {
   "cell_type": "markdown",
   "id": "a69c33ec",
   "metadata": {},
   "source": [
    "Standard HUMAN-GEM model downlaod test"
   ]
  },
  {
   "cell_type": "code",
   "execution_count": null,
   "id": "a311f9e0",
   "metadata": {},
   "outputs": [],
   "source": [
    "# Downloading standard Human-GEM model\n",
    "from pyGSLModel import download_model\n",
    "\n",
    "model_1 = download_model()\n",
    "\n",
    "print(f\"Number of Reactions in model : {len(model_1.reactions)}\")\n",
    "print(f\"Number of Metabolites in model : {len(model_1.metabolites)}\")\n",
    "print(f\"Number of Genes in model : {len(model_1.genes)}\")"
   ]
  },
  {
   "cell_type": "markdown",
   "id": "1db70d81",
   "metadata": {},
   "source": [
    "Converting gene symbols, model pruning, and removing transport reactions test"
   ]
  },
  {
   "cell_type": "code",
   "execution_count": null,
   "id": "f70a0396",
   "metadata": {},
   "outputs": [],
   "source": [
    "# Converting gene names, pruning the model and removing GSl transport reactions\n",
    "from pyGSLModel import convert_genes, prune_model, remove_GSL_transport\n",
    "\n",
    "model_2 = convert_genes(model_1)\n",
    "model_2 = prune_model(model_2)\n",
    "model_2 = remove_GSL_transport(model_2)\n",
    "\n",
    "print(f\"Number of Reactions in model : {len(model_1.reactions)}\")\n",
    "print(f\"Number of Metabolites in model : {len(model_1.metabolites)}\")\n",
    "print(f\"Number of Genes in model : {len(model_1.genes)}\")\n",
    "\n",
    "print(f\"Checking gene symbol conversion :\")\n",
    "model_1.genes.get_by_id(\"B4GALNT1\")"
   ]
  },
  {
   "cell_type": "markdown",
   "id": "a06337d2",
   "metadata": {},
   "source": [
    "Testing download of pre-pruned model"
   ]
  },
  {
   "cell_type": "code",
   "execution_count": 1,
   "id": "fb1d8016",
   "metadata": {},
   "outputs": [
    {
     "name": "stdout",
     "output_type": "stream",
     "text": [
      "Downloading  and Reading in Model\n",
      "Model succesfully downloaded and read in.\n",
      "Number of Reactions in model : 2307\n",
      "Number of Metabolites in model : 2009\n",
      "Number of Genes in model : 2887\n",
      "Checking gene symbol conversion :\n"
     ]
    },
    {
     "data": {
      "text/html": [
       "\n",
       "        <table>\n",
       "            <tr>\n",
       "                <td><strong>Gene identifier</strong></td><td>UGT8</td>\n",
       "            </tr><tr>\n",
       "                <td><strong>Name</strong></td><td>G_UGT8</td>\n",
       "            </tr><tr>\n",
       "                <td><strong>Memory address</strong></td>\n",
       "                <td>0x1e143ccc550</td>\n",
       "            </tr><tr>\n",
       "                <td><strong>Functional</strong></td><td>True</td>\n",
       "            </tr><tr>\n",
       "                <td><strong>In 1 reaction(s)</strong></td><td>\n",
       "                    MAR00919\n",
       "                    </td>\n",
       "            </tr>\n",
       "        </table>"
      ],
      "text/plain": [
       "<Gene UGT8 at 0x1e143ccc550>"
      ]
     },
     "execution_count": 1,
     "metadata": {},
     "output_type": "execute_result"
    }
   ],
   "source": [
    "# Testing pre-pruned model download\n",
    "from pyGSLModel import download_GSL_model\n",
    "\n",
    "model_3 = download_GSL_model()\n",
    "\n",
    "print(f\"Number of Reactions in model : {len(model_3.reactions)}\")\n",
    "print(f\"Number of Metabolites in model : {len(model_3.metabolites)}\")\n",
    "print(f\"Number of Genes in model : {len(model_3.genes)}\")\n",
    "\n",
    "print(f\"Checking gene symbol conversion :\")\n",
    "model_3.genes.get_by_id(\"UGT8\")"
   ]
  },
  {
   "cell_type": "markdown",
   "id": "595d7091",
   "metadata": {},
   "source": [
    "### Testing performing simulations and analysing results"
   ]
  },
  {
   "cell_type": "markdown",
   "id": "6d3c2292",
   "metadata": {},
   "source": [
    "Performing a generic FBA simulation"
   ]
  },
  {
   "cell_type": "code",
   "execution_count": null,
   "id": "be546f0e",
   "metadata": {},
   "outputs": [],
   "source": [
    "from pyGSLModel import run_metabolic_model, tabulate_model_results, plot_model_results\n",
    "\n",
    "# Running Basic simulation\n",
    "sol_1 = run_metabolic_model(model_3, method=\"FBA\",objective_choice=\"D14_Neuron\")\n",
    "\n",
    "# Preparing dataframe\n",
    "results_1 = tabulate_model_results(model_3,sol_1)\n",
    "print(results_1.head())\n",
    "\n",
    "# Generating plot\n",
    "fig_1 = plot_model_results(results_1)\n",
    "fig_1"
   ]
  },
  {
   "cell_type": "markdown",
   "id": "a4ff3728",
   "metadata": {},
   "source": [
    "Performing a knockout simulation"
   ]
  },
  {
   "cell_type": "code",
   "execution_count": null,
   "id": "a2619228",
   "metadata": {},
   "outputs": [],
   "source": [
    "from pyGSLModel import run_metabolic_model, tabulate_model_results, plot_model_results\n",
    "\n",
    "# Running Basic simulation\n",
    "sol_2 = run_metabolic_model(model_3, method=\"FBA\",objective_choice=\"AC\",knockout=\"B4GALNT1\")\n",
    "\n",
    "# Preparing dataframe\n",
    "results_2 = tabulate_model_results(model_3,sol_2)\n",
    "print(results_2.head())\n",
    "\n",
    "# Generating plot\n",
    "fig_2 = plot_model_results(results_2)\n",
    "fig_2"
   ]
  },
  {
   "cell_type": "markdown",
   "id": "077184cc",
   "metadata": {},
   "source": [
    "Performing mFBA simulation"
   ]
  },
  {
   "cell_type": "code",
   "execution_count": null,
   "id": "f8b78310",
   "metadata": {},
   "outputs": [],
   "source": [
    "from pyGSLModel import run_metabolic_model, tabulate_model_results, plot_model_results\n",
    "\n",
    "# Running Basic simulation\n",
    "sol_3 = run_metabolic_model(model_3, method=\"mFBA\",objective_choice=\"D14_Neuron\")\n",
    "\n",
    "# Preparing dataframe\n",
    "results_3 = tabulate_model_results(model_3,sol_3)\n",
    "print(results_3.head())\n",
    "\n",
    "# Generating plot\n",
    "fig_3 = plot_model_results(results_3)\n",
    "fig_3"
   ]
  },
  {
   "cell_type": "markdown",
   "id": "59c2060f",
   "metadata": {},
   "source": [
    "Testing network visualisation. This saves a .html file"
   ]
  },
  {
   "cell_type": "code",
   "execution_count": null,
   "id": "346cdd0c",
   "metadata": {},
   "outputs": [],
   "source": [
    "from pyGSLModel import visualise_flux_network\n",
    "\n",
    "visualise_flux_network(model_3,sol_3,file_path=\"./flux_network_test.html\",height=\"1080px\",width=\"100%\")\n"
   ]
  },
  {
   "cell_type": "markdown",
   "id": "73b8327c",
   "metadata": {},
   "source": [
    "### Transcriptomic integration testing"
   ]
  },
  {
   "cell_type": "markdown",
   "id": "1e2b522f",
   "metadata": {},
   "source": [
    "Testing standard iMAT integration"
   ]
  },
  {
   "cell_type": "code",
   "execution_count": null,
   "id": "e964260f",
   "metadata": {},
   "outputs": [],
   "source": [
    "import pandas as pd\n",
    "# Making a dummy dataframe\n",
    "d = {\n",
    "    \"Gene\" : [\"B4GALNT1\", \"ST3GAL5\", \"ST8SIA1\",\"A4GALT\"],\n",
    "    \"Sample_1\" : [8,6,4,2]\n",
    "}\n",
    "\n",
    "# Converting the dictionary to a pandas dataframe and setting the index to Gene\n",
    "iMAT_df_1 = pd.DataFrame(d)\n",
    "iMAT_df_1 = iMAT_df_1.set_index(\"Gene\").copy()\n",
    "\n",
    "from pyGSLModel import iMAT_integrate, tabulate_model_results\n",
    "sol_4 = iMAT_integrate(model_3,iMAT_df_1)\n",
    "\n",
    "results_4 = tabulate_model_results(model_3, sol_4)\n",
    "results_4.head()"
   ]
  },
  {
   "cell_type": "markdown",
   "id": "3cec9d41",
   "metadata": {},
   "source": [
    "Testing multi sample iMat integration with a dummy dataframe"
   ]
  },
  {
   "cell_type": "code",
   "execution_count": null,
   "id": "1a999874",
   "metadata": {},
   "outputs": [],
   "source": [
    "import pandas as pd\n",
    "# Making a dummy dataframe\n",
    "d = {\n",
    "    \"Gene\" : [\"B4GALNT1\", \"ST3GAL5\", \"ST8SIA1\",\"A4GALT\"],\n",
    "    \"Sample_1\" : [8,6,4,2],\n",
    "    \"Sample_2\" : [2,4,6,8],\n",
    "    \"Sample_3\" : [6,2,8,4],\n",
    "    \"Sample_4\" : [4,8,2,6]\n",
    "}\n",
    "\n",
    "# Converting the dictionary to a pandas dataframe and setting the index to Gene\n",
    "iMAT_df_1 = pd.DataFrame(d)\n",
    "iMAT_df_1 = iMAT_df_1.set_index(\"Gene\").copy()\n",
    "\n",
    "# Performing the iMAT integration for the custom data\n",
    "from pyGSLModel import iMAT_multi_integrate\n",
    "iMAT_res_1 = iMAT_multi_integrate(model_3, iMAT_df_1)\n",
    "\n",
    "iMAT_res_1"
   ]
  },
  {
   "cell_type": "markdown",
   "id": "6be14e7f",
   "metadata": {},
   "source": [
    "Testing average TCGA integration with iMAT"
   ]
  },
  {
   "cell_type": "code",
   "execution_count": 2,
   "id": "3e279cde",
   "metadata": {},
   "outputs": [
    {
     "name": "stdout",
     "output_type": "stream",
     "text": [
      "Simulations Performed:1/107\n",
      "Simulations Performed:2/107\n",
      "Simulations Performed:3/107\n",
      "Simulations Performed:4/107\n",
      "Simulations Performed:5/107\n",
      "Simulations Performed:6/107\n",
      "Simulations Performed:7/107\n",
      "Simulations Performed:8/107\n",
      "Simulations Performed:9/107\n",
      "Simulations Performed:10/107\n",
      "Simulations Performed:11/107\n",
      "Simulations Performed:12/107\n",
      "Simulations Performed:13/107\n",
      "Simulations Performed:14/107\n",
      "Simulations Performed:15/107\n",
      "Simulations Performed:16/107\n",
      "Simulations Performed:17/107\n",
      "Simulations Performed:18/107\n",
      "Simulations Performed:19/107\n",
      "Simulations Performed:20/107\n",
      "Simulations Performed:21/107\n",
      "Simulations Performed:22/107\n",
      "Simulations Performed:23/107\n",
      "Simulations Performed:24/107\n",
      "Simulations Performed:25/107\n",
      "Simulations Performed:26/107\n",
      "Simulations Performed:27/107\n",
      "Simulations Performed:28/107\n",
      "Simulations Performed:29/107\n",
      "Simulations Performed:30/107\n",
      "Simulations Performed:31/107\n",
      "Simulations Performed:32/107\n",
      "Simulations Performed:33/107\n",
      "Simulations Performed:34/107\n",
      "Simulations Performed:35/107\n",
      "Simulations Performed:36/107\n",
      "Simulations Performed:37/107\n",
      "Simulations Performed:38/107\n",
      "Simulations Performed:39/107\n",
      "Simulations Performed:40/107\n",
      "Simulations Performed:41/107\n",
      "Simulations Performed:42/107\n",
      "Simulations Performed:43/107\n",
      "Simulations Performed:44/107\n",
      "Simulations Performed:45/107\n",
      "Simulations Performed:46/107\n",
      "Simulations Performed:47/107\n",
      "Simulations Performed:48/107\n",
      "Simulations Performed:49/107\n",
      "Simulations Performed:50/107\n",
      "Simulations Performed:51/107\n",
      "Simulations Performed:52/107\n",
      "Simulations Performed:53/107\n",
      "Simulations Performed:54/107\n",
      "Simulations Performed:55/107\n",
      "Simulations Performed:56/107\n",
      "Simulations Performed:57/107\n",
      "Simulations Performed:58/107\n",
      "Simulations Performed:59/107\n",
      "Simulations Performed:60/107\n",
      "Simulations Performed:61/107\n",
      "Simulations Performed:62/107\n",
      "Simulations Performed:63/107\n",
      "Simulations Performed:64/107\n",
      "Simulations Performed:65/107\n",
      "Simulations Performed:66/107\n",
      "Simulations Performed:67/107\n",
      "Simulations Performed:68/107\n",
      "Simulations Performed:69/107\n",
      "Simulations Performed:70/107\n",
      "Simulations Performed:71/107\n",
      "Simulations Performed:72/107\n",
      "Simulations Performed:73/107\n",
      "Simulations Performed:74/107\n",
      "Simulations Performed:75/107\n",
      "Simulations Performed:76/107\n",
      "Simulations Performed:77/107\n",
      "Simulations Performed:78/107\n",
      "Simulations Performed:79/107\n",
      "Simulations Performed:80/107\n",
      "Simulations Performed:81/107\n",
      "Simulations Performed:82/107\n",
      "Simulations Performed:83/107\n",
      "Simulations Performed:84/107\n",
      "Simulations Performed:85/107\n",
      "Simulations Performed:86/107\n",
      "Simulations Performed:87/107\n",
      "Simulations Performed:88/107\n",
      "Simulations Performed:89/107\n",
      "Simulations Performed:90/107\n",
      "Simulations Performed:91/107\n",
      "Simulations Performed:92/107\n",
      "Simulations Performed:93/107\n",
      "Simulations Performed:94/107\n",
      "Simulations Performed:95/107\n",
      "Simulations Performed:96/107\n",
      "Simulations Performed:97/107\n",
      "Simulations Performed:98/107\n",
      "Simulations Performed:99/107\n",
      "Simulations Performed:100/107\n",
      "Simulations Performed:101/107\n",
      "Simulations Performed:102/107\n",
      "Simulations Performed:103/107\n",
      "Simulations Performed:104/107\n",
      "Simulations Performed:105/107\n",
      "Simulations Performed:106/107\n",
      "Simulations Performed:107/107\n"
     ]
    },
    {
     "data": {
      "text/html": [
       "<div>\n",
       "<style scoped>\n",
       "    .dataframe tbody tr th:only-of-type {\n",
       "        vertical-align: middle;\n",
       "    }\n",
       "\n",
       "    .dataframe tbody tr th {\n",
       "        vertical-align: top;\n",
       "    }\n",
       "\n",
       "    .dataframe thead th {\n",
       "        text-align: right;\n",
       "    }\n",
       "</style>\n",
       "<table border=\"1\" class=\"dataframe\">\n",
       "  <thead>\n",
       "    <tr style=\"text-align: right;\">\n",
       "      <th>Key Product</th>\n",
       "      <th>LacCer pool</th>\n",
       "      <th>globotriaosylceramide</th>\n",
       "      <th>globoside</th>\n",
       "      <th>GA2</th>\n",
       "      <th>GA1</th>\n",
       "      <th>GM1b</th>\n",
       "      <th>GD1alpha</th>\n",
       "      <th>GM3</th>\n",
       "      <th>GD1a</th>\n",
       "      <th>GD2</th>\n",
       "      <th>...</th>\n",
       "      <th>GT1a</th>\n",
       "      <th>GT1c</th>\n",
       "      <th>GQ1b</th>\n",
       "      <th>GT3</th>\n",
       "      <th>GQ1c</th>\n",
       "      <th>GD1c</th>\n",
       "      <th>sialyl-3-paragloboside</th>\n",
       "      <th>tissue</th>\n",
       "      <th>sample type</th>\n",
       "      <th>primary site</th>\n",
       "    </tr>\n",
       "  </thead>\n",
       "  <tbody>\n",
       "    <tr>\n",
       "      <th>0</th>\n",
       "      <td>37.140284</td>\n",
       "      <td>22.086414</td>\n",
       "      <td>22.076414</td>\n",
       "      <td>13.04387</td>\n",
       "      <td>13.04387</td>\n",
       "      <td>13.04387</td>\n",
       "      <td>13.04387</td>\n",
       "      <td>2.000000</td>\n",
       "      <td>1.0</td>\n",
       "      <td>1.000000</td>\n",
       "      <td>...</td>\n",
       "      <td>0.0</td>\n",
       "      <td>0.000000</td>\n",
       "      <td>0.0</td>\n",
       "      <td>0.000000</td>\n",
       "      <td>0.000000</td>\n",
       "      <td>0.0</td>\n",
       "      <td>0.0</td>\n",
       "      <td>Adipose - Subcutaneous</td>\n",
       "      <td>Normal Tissue</td>\n",
       "      <td>Adipose Tissue</td>\n",
       "    </tr>\n",
       "    <tr>\n",
       "      <th>1</th>\n",
       "      <td>61.240299</td>\n",
       "      <td>1.000000</td>\n",
       "      <td>1.000000</td>\n",
       "      <td>1.00000</td>\n",
       "      <td>1.00000</td>\n",
       "      <td>1.00000</td>\n",
       "      <td>1.00000</td>\n",
       "      <td>59.220299</td>\n",
       "      <td>1.0</td>\n",
       "      <td>58.220299</td>\n",
       "      <td>...</td>\n",
       "      <td>0.0</td>\n",
       "      <td>0.000000</td>\n",
       "      <td>0.0</td>\n",
       "      <td>0.000000</td>\n",
       "      <td>0.000000</td>\n",
       "      <td>0.0</td>\n",
       "      <td>0.0</td>\n",
       "      <td>Adipose - Visceral (Omentum)</td>\n",
       "      <td>Normal Tissue</td>\n",
       "      <td>Adipose Tissue</td>\n",
       "    </tr>\n",
       "    <tr>\n",
       "      <th>2</th>\n",
       "      <td>45.512663</td>\n",
       "      <td>19.748499</td>\n",
       "      <td>19.748499</td>\n",
       "      <td>1.00000</td>\n",
       "      <td>1.00000</td>\n",
       "      <td>1.00000</td>\n",
       "      <td>1.00000</td>\n",
       "      <td>15.178916</td>\n",
       "      <td>1.0</td>\n",
       "      <td>1.000000</td>\n",
       "      <td>...</td>\n",
       "      <td>0.0</td>\n",
       "      <td>13.178916</td>\n",
       "      <td>0.0</td>\n",
       "      <td>13.178916</td>\n",
       "      <td>13.178916</td>\n",
       "      <td>0.0</td>\n",
       "      <td>1.0</td>\n",
       "      <td>Adrenal Gland</td>\n",
       "      <td>Normal Tissue</td>\n",
       "      <td>Adrenal Gland</td>\n",
       "    </tr>\n",
       "    <tr>\n",
       "      <th>3</th>\n",
       "      <td>51.331292</td>\n",
       "      <td>0.010000</td>\n",
       "      <td>0.010000</td>\n",
       "      <td>1.00000</td>\n",
       "      <td>1.00000</td>\n",
       "      <td>1.00000</td>\n",
       "      <td>1.00000</td>\n",
       "      <td>9.674258</td>\n",
       "      <td>1.0</td>\n",
       "      <td>1.000000</td>\n",
       "      <td>...</td>\n",
       "      <td>0.0</td>\n",
       "      <td>7.674258</td>\n",
       "      <td>0.0</td>\n",
       "      <td>7.674258</td>\n",
       "      <td>7.674258</td>\n",
       "      <td>0.0</td>\n",
       "      <td>1.0</td>\n",
       "      <td>Adrenocortical Cancer</td>\n",
       "      <td>Primary Tumor</td>\n",
       "      <td>Adrenal gland</td>\n",
       "    </tr>\n",
       "    <tr>\n",
       "      <th>4</th>\n",
       "      <td>4.000000</td>\n",
       "      <td>1.000000</td>\n",
       "      <td>1.000000</td>\n",
       "      <td>1.00000</td>\n",
       "      <td>1.00000</td>\n",
       "      <td>1.00000</td>\n",
       "      <td>1.00000</td>\n",
       "      <td>2.000000</td>\n",
       "      <td>1.0</td>\n",
       "      <td>1.000000</td>\n",
       "      <td>...</td>\n",
       "      <td>0.0</td>\n",
       "      <td>0.000000</td>\n",
       "      <td>0.0</td>\n",
       "      <td>0.000000</td>\n",
       "      <td>0.000000</td>\n",
       "      <td>0.0</td>\n",
       "      <td>0.0</td>\n",
       "      <td>Artery - Aorta</td>\n",
       "      <td>Normal Tissue</td>\n",
       "      <td>Blood Vessel</td>\n",
       "    </tr>\n",
       "  </tbody>\n",
       "</table>\n",
       "<p>5 rows × 30 columns</p>\n",
       "</div>"
      ],
      "text/plain": [
       "Key Product  LacCer pool  globotriaosylceramide  globoside       GA2  \\\n",
       "0              37.140284              22.086414  22.076414  13.04387   \n",
       "1              61.240299               1.000000   1.000000   1.00000   \n",
       "2              45.512663              19.748499  19.748499   1.00000   \n",
       "3              51.331292               0.010000   0.010000   1.00000   \n",
       "4               4.000000               1.000000   1.000000   1.00000   \n",
       "\n",
       "Key Product       GA1      GM1b  GD1alpha        GM3  GD1a        GD2  ...  \\\n",
       "0            13.04387  13.04387  13.04387   2.000000   1.0   1.000000  ...   \n",
       "1             1.00000   1.00000   1.00000  59.220299   1.0  58.220299  ...   \n",
       "2             1.00000   1.00000   1.00000  15.178916   1.0   1.000000  ...   \n",
       "3             1.00000   1.00000   1.00000   9.674258   1.0   1.000000  ...   \n",
       "4             1.00000   1.00000   1.00000   2.000000   1.0   1.000000  ...   \n",
       "\n",
       "Key Product  GT1a       GT1c  GQ1b        GT3       GQ1c  GD1c  \\\n",
       "0             0.0   0.000000   0.0   0.000000   0.000000   0.0   \n",
       "1             0.0   0.000000   0.0   0.000000   0.000000   0.0   \n",
       "2             0.0  13.178916   0.0  13.178916  13.178916   0.0   \n",
       "3             0.0   7.674258   0.0   7.674258   7.674258   0.0   \n",
       "4             0.0   0.000000   0.0   0.000000   0.000000   0.0   \n",
       "\n",
       "Key Product  sialyl-3-paragloboside                        tissue  \\\n",
       "0                               0.0        Adipose - Subcutaneous   \n",
       "1                               0.0  Adipose - Visceral (Omentum)   \n",
       "2                               1.0                 Adrenal Gland   \n",
       "3                               1.0         Adrenocortical Cancer   \n",
       "4                               0.0                Artery - Aorta   \n",
       "\n",
       "Key Product    sample type    primary site  \n",
       "0            Normal Tissue  Adipose Tissue  \n",
       "1            Normal Tissue  Adipose Tissue  \n",
       "2            Normal Tissue   Adrenal Gland  \n",
       "3            Primary Tumor   Adrenal gland  \n",
       "4            Normal Tissue    Blood Vessel  \n",
       "\n",
       "[5 rows x 30 columns]"
      ]
     },
     "execution_count": 2,
     "metadata": {},
     "output_type": "execute_result"
    }
   ],
   "source": [
    "from pyGSLModel import TCGA_iMAT_integrate\n",
    "\n",
    "# Lets adjust upper and lower quantiles here to select the top and bottom 15% of genes instead. We're going to leave epsilon and threshold alone\n",
    "iMAT_TCGA_1, sol_dict = TCGA_iMAT_integrate(model_3)\n",
    "\n",
    "iMAT_TCGA_1.head()"
   ]
  },
  {
   "cell_type": "code",
   "execution_count": 3,
   "id": "17413c2d",
   "metadata": {},
   "outputs": [
    {
     "data": {
      "text/html": [
       "<div>\n",
       "<style scoped>\n",
       "    .dataframe tbody tr th:only-of-type {\n",
       "        vertical-align: middle;\n",
       "    }\n",
       "\n",
       "    .dataframe tbody tr th {\n",
       "        vertical-align: top;\n",
       "    }\n",
       "\n",
       "    .dataframe thead th {\n",
       "        text-align: right;\n",
       "    }\n",
       "</style>\n",
       "<table border=\"1\" class=\"dataframe\">\n",
       "  <thead>\n",
       "    <tr style=\"text-align: right;\">\n",
       "      <th></th>\n",
       "      <th>Reaction ID</th>\n",
       "      <th>Reactants</th>\n",
       "      <th>Products</th>\n",
       "      <th>Key Product</th>\n",
       "      <th>Genes</th>\n",
       "      <th>Flux (mmol/gDW/hr)</th>\n",
       "      <th>Relative GSL Flux (%)</th>\n",
       "      <th>status</th>\n",
       "    </tr>\n",
       "  </thead>\n",
       "  <tbody>\n",
       "    <tr>\n",
       "      <th>0</th>\n",
       "      <td>MAR08147</td>\n",
       "      <td>MAM01972g (glucosylceramide pool), MAM03107g (...</td>\n",
       "      <td>MAM02039g (H+), MAM02328g (LacCer pool), MAM03...</td>\n",
       "      <td>LacCer pool</td>\n",
       "      <td>B3GNT3</td>\n",
       "      <td>64.768396</td>\n",
       "      <td>20.843115</td>\n",
       "      <td>GBM</td>\n",
       "    </tr>\n",
       "    <tr>\n",
       "      <th>14</th>\n",
       "      <td>MAR08184</td>\n",
       "      <td>MAM01592g (CMP-N-acetylneuraminate), MAM02328g...</td>\n",
       "      <td>MAM01590g (CMP), MAM02015g (GM3), MAM02039g (H+)</td>\n",
       "      <td>GM3</td>\n",
       "      <td>ST3GAL5</td>\n",
       "      <td>38.139074</td>\n",
       "      <td>12.273533</td>\n",
       "      <td>GBM</td>\n",
       "    </tr>\n",
       "    <tr>\n",
       "      <th>10</th>\n",
       "      <td>MAR08179</td>\n",
       "      <td>MAM01592g (CMP-N-acetylneuraminate), MAM02015g...</td>\n",
       "      <td>MAM01590g (CMP), MAM01947g (GD3), MAM02039g (H+)</td>\n",
       "      <td>GD3</td>\n",
       "      <td>ST8SIA1</td>\n",
       "      <td>37.139074</td>\n",
       "      <td>11.951724</td>\n",
       "      <td>GBM</td>\n",
       "    </tr>\n",
       "    <tr>\n",
       "      <th>19</th>\n",
       "      <td>MAR08189</td>\n",
       "      <td>MAM01592g (CMP-N-acetylneuraminate), MAM01943g...</td>\n",
       "      <td>MAM01590g (CMP), MAM02030g (GT1b), MAM02039g (H+)</td>\n",
       "      <td>GT1b</td>\n",
       "      <td>ST3GAL4, ST3GAL1, ST3GAL2</td>\n",
       "      <td>37.129074</td>\n",
       "      <td>11.948505</td>\n",
       "      <td>GBM</td>\n",
       "    </tr>\n",
       "    <tr>\n",
       "      <th>21</th>\n",
       "      <td>MAR08191</td>\n",
       "      <td>MAM01947g (GD3), MAM03110g (UDP-N-acetyl-D-gal...</td>\n",
       "      <td>MAM01946g (GD2), MAM02039g (H+), MAM03106g (UDP)</td>\n",
       "      <td>GD2</td>\n",
       "      <td>B4GALNT1</td>\n",
       "      <td>37.129074</td>\n",
       "      <td>11.948505</td>\n",
       "      <td>GBM</td>\n",
       "    </tr>\n",
       "  </tbody>\n",
       "</table>\n",
       "</div>"
      ],
      "text/plain": [
       "   Reaction ID                                          Reactants  \\\n",
       "0     MAR08147  MAM01972g (glucosylceramide pool), MAM03107g (...   \n",
       "14    MAR08184  MAM01592g (CMP-N-acetylneuraminate), MAM02328g...   \n",
       "10    MAR08179  MAM01592g (CMP-N-acetylneuraminate), MAM02015g...   \n",
       "19    MAR08189  MAM01592g (CMP-N-acetylneuraminate), MAM01943g...   \n",
       "21    MAR08191  MAM01947g (GD3), MAM03110g (UDP-N-acetyl-D-gal...   \n",
       "\n",
       "                                             Products  Key Product  \\\n",
       "0   MAM02039g (H+), MAM02328g (LacCer pool), MAM03...  LacCer pool   \n",
       "14   MAM01590g (CMP), MAM02015g (GM3), MAM02039g (H+)          GM3   \n",
       "10   MAM01590g (CMP), MAM01947g (GD3), MAM02039g (H+)          GD3   \n",
       "19  MAM01590g (CMP), MAM02030g (GT1b), MAM02039g (H+)         GT1b   \n",
       "21   MAM01946g (GD2), MAM02039g (H+), MAM03106g (UDP)          GD2   \n",
       "\n",
       "                        Genes  Flux (mmol/gDW/hr)  Relative GSL Flux (%)  \\\n",
       "0                      B3GNT3           64.768396              20.843115   \n",
       "14                    ST3GAL5           38.139074              12.273533   \n",
       "10                    ST8SIA1           37.139074              11.951724   \n",
       "19  ST3GAL4, ST3GAL1, ST3GAL2           37.129074              11.948505   \n",
       "21                   B4GALNT1           37.129074              11.948505   \n",
       "\n",
       "   status  \n",
       "0     GBM  \n",
       "14    GBM  \n",
       "10    GBM  \n",
       "19    GBM  \n",
       "21    GBM  "
      ]
     },
     "execution_count": 3,
     "metadata": {},
     "output_type": "execute_result"
    }
   ],
   "source": [
    "from pyGSLModel import tabulate_model_results, plot_model_results\n",
    "brain_GBM_dat = tabulate_model_results(model_3,sol_dict[\"(\\'Glioblastoma Multiforme\\', \\'Primary Tumor\\', \\'Brain\\')_sol\"])\n",
    "brain_GBM_dat[\"status\"] = \"GBM\"\n",
    "brain_LGG_dat = tabulate_model_results(model_3,sol_dict[\"(\\'Brain Lower Grade Glioma\\', \\'Primary Tumor\\', \\'Brain\\')_sol\"])\n",
    "brain_LGG_dat[\"status\"] = \"LGG\"\n",
    "import pandas as pd\n",
    "brain_df = pd.concat([brain_GBM_dat, brain_LGG_dat],axis=0)\n",
    "brain_df.head()"
   ]
  },
  {
   "cell_type": "code",
   "execution_count": 30,
   "id": "5a5e74a2",
   "metadata": {},
   "outputs": [
    {
     "data": {
      "text/plain": [
       "[Text(0.5, 0, '')]"
      ]
     },
     "execution_count": 30,
     "metadata": {},
     "output_type": "execute_result"
    },
    {
     "data": {
      "image/png": "[encoded data removed]",
      "text/plain": [
       "<Figure size 1600x600 with 1 Axes>"
      ]
     },
     "metadata": {},
     "output_type": "display_data"
    }
   ],
   "source": [
    "import seaborn as sns\n",
    "import matplotlib.pyplot as plt\n",
    "\n",
    "fig, ax = plt.subplots(figsize=(16,6))\n",
    "ax = sns.barplot(brain_df,x=\"Key Product\",y=\"Relative GSL Flux (%)\",hue=\"status\",edgecolor=\"black\")\n",
    "plt.xticks(rotation = 20,ha=\"right\")\n",
    "ax.set(xlabel=None)"
   ]
  },
  {
   "cell_type": "code",
   "execution_count": null,
   "id": "6fa1c435",
   "metadata": {},
   "outputs": [
    {
     "name": "stdout",
     "output_type": "stream",
     "text": [
      "html file wrtten to: C:/Users/ottoc/OneDrive - University of Cambridge/PhD Year 3/GSL_Metabolism_Project/Python_Package/Brain_Vis/GBM_network.html\n",
      "html file wrtten to: C:/Users/ottoc/OneDrive - University of Cambridge/PhD Year 3/GSL_Metabolism_Project/Python_Package/Brain_Vis/LGG_network.html\n"
     ]
    }
   ],
   "source": [
    "from pyGSLModel import visualise_flux_network\n",
    "visualise_flux_network(model_3,sol_dict[\"(\\'Glioblastoma Multiforme\\', \\'Primary Tumor\\', \\'Brain\\')_sol\"],file_path=\"./GBM_network.html\",height=\"1080px\",width=\"100%\",rxn_col=\"#1f77b4\",met_col=\"#abdcff\")\n",
    "visualise_flux_network(model_3,sol_dict[\"(\\'Brain Lower Grade Glioma\\', \\'Primary Tumor\\', \\'Brain\\')_sol\"],file_path=\"./LGG_network.html\",height=\"1080px\",width=\"100%\",rxn_col=\"#ff7f0e\",met_col=\"#ffca9c\")"
   ]
  },
  {
   "cell_type": "markdown",
   "id": "cf05f8af",
   "metadata": {},
   "source": [
    "Testing sample wise iMAT integration of TCGA data"
   ]
  },
  {
   "cell_type": "code",
   "execution_count": null,
   "id": "9bdaab7d",
   "metadata": {},
   "outputs": [],
   "source": [
    "from pyGSLModel import TCGA_iMAT_sample_integrate\n",
    "\n",
    "# Selecting Bile duct for tissue argument as this has fewer samples (Brain has something like 2000 so takes a while). Leaving other arguments as default\n",
    "iMAT_TCGA_sample = TCGA_iMAT_sample_integrate(model_3, tissue=\"Bile duct\")\n",
    "\n",
    "iMAT_TCGA_sample.head()"
   ]
  }
 ],
 "metadata": {
  "kernelspec": {
   "display_name": "Python 3",
   "language": "python",
   "name": "python3"
  },
  "language_info": {
   "codemirror_mode": {
    "name": "ipython",
    "version": 3
   },
   "file_extension": ".py",
   "mimetype": "text/x-python",
   "name": "python",
   "nbconvert_exporter": "python",
   "pygments_lexer": "ipython3",
   "version": "3.11.11"
  }
 },
 "nbformat": 4,
 "nbformat_minor": 5
}
