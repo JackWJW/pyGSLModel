{
 "cells": [
  {
   "cell_type": "markdown",
   "id": "6b0bb6bc",
   "metadata": {},
   "source": [
    "# Testing document for pyGSLModel"
   ]
  },
  {
   "cell_type": "markdown",
   "id": "3f762190",
   "metadata": {},
   "source": [
    "### Testing model download and pruning functions"
   ]
  },
  {
   "cell_type": "markdown",
   "id": "a69c33ec",
   "metadata": {},
   "source": [
    "Standard HUMAN-GEM model downlaod test"
   ]
  },
  {
   "cell_type": "code",
   "execution_count": null,
   "id": "a311f9e0",
   "metadata": {},
   "outputs": [],
   "source": [
    "# Downloading standard Human-GEM model\n",
    "from pyGSLModel import download_model\n",
    "\n",
    "model_1 = download_model()\n",
    "\n",
    "print(f\"Number of Reactions in model : {len(model_1.reactions)}\")\n",
    "print(f\"Number of Metabolites in model : {len(model_1.metabolites)}\")\n",
    "print(f\"Number of Genes in model : {len(model_1.genes)}\")"
   ]
  },
  {
   "cell_type": "markdown",
   "id": "1db70d81",
   "metadata": {},
   "source": [
    "Converting gene symbols, model pruning, and removing transport reactions test"
   ]
  },
  {
   "cell_type": "code",
   "execution_count": null,
   "id": "f70a0396",
   "metadata": {},
   "outputs": [],
   "source": [
    "# Converting gene names, pruning the model and removing GSl transport reactions\n",
    "from pyGSLModel import convert_genes, prune_model, remove_GSL_transport\n",
    "\n",
    "model_2 = convert_genes(model_1)\n",
    "model_2 = prune_model(model_2)\n",
    "model_2 = remove_GSL_transport(model_2)\n",
    "\n",
    "print(f\"Number of Reactions in model : {len(model_2.reactions)}\")\n",
    "print(f\"Number of Metabolites in model : {len(model_2.metabolites)}\")\n",
    "print(f\"Number of Genes in model : {len(model_2.genes)}\")\n",
    "\n",
    "print(f\"Checking gene symbol conversion :\")\n",
    "model_2.genes.get_by_id(\"UGT8\")"
   ]
  },
  {
   "cell_type": "markdown",
   "id": "a06337d2",
   "metadata": {},
   "source": [
    "Testing download of pre-pruned model"
   ]
  },
  {
   "cell_type": "code",
   "execution_count": 1,
   "id": "fb1d8016",
   "metadata": {},
   "outputs": [
    {
     "name": "stdout",
     "output_type": "stream",
     "text": [
      "Downloading  and Reading in Model\n",
      "Model succesfully downloaded and read in.\n",
      "Number of Reactions in model : 2312\n",
      "Number of Metabolites in model : 2015\n",
      "Number of Genes in model : 2887\n",
      "Checking gene symbol conversion :\n"
     ]
    },
    {
     "data": {
      "text/html": [
       "\n",
       "        <table>\n",
       "            <tr>\n",
       "                <td><strong>Gene identifier</strong></td><td>UGT8</td>\n",
       "            </tr><tr>\n",
       "                <td><strong>Name</strong></td><td>G_UGT8</td>\n",
       "            </tr><tr>\n",
       "                <td><strong>Memory address</strong></td>\n",
       "                <td>0x17d1640dc50</td>\n",
       "            </tr><tr>\n",
       "                <td><strong>Functional</strong></td><td>True</td>\n",
       "            </tr><tr>\n",
       "                <td><strong>In 2 reaction(s)</strong></td><td>\n",
       "                    MAR00920, MAR00919\n",
       "                    </td>\n",
       "            </tr>\n",
       "        </table>"
      ],
      "text/plain": [
       "<Gene UGT8 at 0x17d1640dc50>"
      ]
     },
     "execution_count": 1,
     "metadata": {},
     "output_type": "execute_result"
    }
   ],
   "source": [
    "# Testing pre-pruned model download\n",
    "from pyGSLModel import download_GSL_model\n",
    "\n",
    "model_3 = download_GSL_model()\n",
    "\n",
    "print(f\"Number of Reactions in model : {len(model_3.reactions)}\")\n",
    "print(f\"Number of Metabolites in model : {len(model_3.metabolites)}\")\n",
    "print(f\"Number of Genes in model : {len(model_3.genes)}\")\n",
    "\n",
    "print(f\"Checking gene symbol conversion :\")\n",
    "model_3.genes.get_by_id(\"UGT8\")"
   ]
  },
  {
   "cell_type": "markdown",
   "id": "595d7091",
   "metadata": {},
   "source": [
    "### Testing performing simulations and analysing results"
   ]
  },
  {
   "cell_type": "markdown",
   "id": "6d3c2292",
   "metadata": {},
   "source": [
    "Performing a generic FBA simulation"
   ]
  },
  {
   "cell_type": "code",
   "execution_count": null,
   "id": "be546f0e",
   "metadata": {},
   "outputs": [],
   "source": [
    "from pyGSLModel import run_metabolic_model, tabulate_model_results, plot_model_results\n",
    "\n",
    "# Running Basic simulation\n",
    "sol_1 = run_metabolic_model(model_3, method=\"FBA\",objective_choice=\"D14_Neuron\")\n",
    "\n",
    "# Preparing dataframe\n",
    "results_1 = tabulate_model_results(model_3,sol_1)\n",
    "print(results_1.head())\n",
    "\n",
    "# Generating plot\n",
    "fig_1 = plot_model_results(results_1)\n",
    "fig_1"
   ]
  },
  {
   "cell_type": "markdown",
   "id": "a4ff3728",
   "metadata": {},
   "source": [
    "Performing a knockout simulation"
   ]
  },
  {
   "cell_type": "code",
   "execution_count": null,
   "id": "a2619228",
   "metadata": {},
   "outputs": [],
   "source": [
    "from pyGSLModel import run_metabolic_model, tabulate_model_results, plot_model_results\n",
    "\n",
    "# Running Basic simulation\n",
    "sol_2 = run_metabolic_model(model_3, method=\"FBA\",objective_choice=\"AC\",knockout=\"B4GALNT1\")\n",
    "\n",
    "# Preparing dataframe\n",
    "results_2 = tabulate_model_results(model_3,sol_2)\n",
    "print(results_2.head())\n",
    "\n",
    "# Generating plot\n",
    "fig_2 = plot_model_results(results_2)\n",
    "fig_2"
   ]
  },
  {
   "cell_type": "markdown",
   "id": "077184cc",
   "metadata": {},
   "source": [
    "Performing mFBA simulation"
   ]
  },
  {
   "cell_type": "code",
   "execution_count": null,
   "id": "f8b78310",
   "metadata": {},
   "outputs": [],
   "source": [
    "from pyGSLModel import run_metabolic_model, tabulate_model_results, plot_model_results\n",
    "\n",
    "# Running Basic simulation\n",
    "sol_3 = run_metabolic_model(model_3, method=\"mFBA\",objective_choice=\"AC\")\n",
    "\n",
    "# Preparing dataframe\n",
    "results_3 = tabulate_model_results(model_3,sol_3)\n",
    "print(results_3.head())\n",
    "\n",
    "# Generating plot\n",
    "fig_3 = plot_model_results(results_3)\n",
    "fig_3"
   ]
  },
  {
   "cell_type": "markdown",
   "id": "59c2060f",
   "metadata": {},
   "source": [
    "Testing network visualisation. This saves a .html file"
   ]
  },
  {
   "cell_type": "code",
   "execution_count": null,
   "id": "346cdd0c",
   "metadata": {},
   "outputs": [],
   "source": [
    "from pyGSLModel import visualise_flux_network\n",
    "\n",
    "visualise_flux_network(model_3,sol_3,file_path=\"./flux_network_test.html\",height=\"1080px\",width=\"100%\")"
   ]
  },
  {
   "cell_type": "markdown",
   "id": "7ed2bccc",
   "metadata": {},
   "source": [
    "Validation of FBA and mFBA"
   ]
  },
  {
   "cell_type": "code",
   "execution_count": 2,
   "id": "a94cd4a5",
   "metadata": {},
   "outputs": [],
   "source": [
    "from pyGSLModel import run_metabolic_model\n",
    "# D14 Simulations\n",
    "FBA_D14 = run_metabolic_model(model_3, method=\"FBA\",objective_choice=\"D14_Neuron\")\n",
    "mFBA_D14 = run_metabolic_model(model_3, method=\"mFBA\",objective_choice=\"D14_Neuron\")\n",
    "\n",
    "# D28 Simulations\n",
    "FBA_D28 = run_metabolic_model(model_3, method=\"FBA\",objective_choice=\"D28_Neuron\")\n",
    "mFBA_D28 = run_metabolic_model(model_3, method=\"mFBA\",objective_choice=\"D28_Neuron\")\n",
    "\n",
    "# AC Simulations\n",
    "FBA_AC = run_metabolic_model(model_3, method=\"FBA\",objective_choice=\"AC\")\n",
    "mFBA_AC = run_metabolic_model(model_3, method=\"mFBA\",objective_choice=\"AC\")\n",
    "\n",
    "# MG Simulations\n",
    "FBA_MG = run_metabolic_model(model_3, method=\"FBA\",objective_choice=\"MG\")\n",
    "mFBA_MG = run_metabolic_model(model_3, method=\"mFBA\",objective_choice=\"MG\")"
   ]
  },
  {
   "cell_type": "code",
   "execution_count": 3,
   "id": "d366fef5",
   "metadata": {},
   "outputs": [],
   "source": [
    "import pandas as pd\n",
    "from pyGSLModel import tabulate_model_results\n",
    "\n",
    "cols_interest = [\"Key Product\",\"Relative GSL Flux (%)\",\"Lipid Series\"]\n",
    "# D14 results\n",
    "FBA_D14_res = tabulate_model_results(model_3,FBA_D14)\n",
    "FBA_D14_res = FBA_D14_res[cols_interest].copy()\n",
    "FBA_D14_res[\"Method\"] = \"FBA\"\n",
    "FBA_D14_res[\"Cell Type\"] = \"D14 Neuron\"\n",
    "\n",
    "mFBA_D14_res = tabulate_model_results(model_3,mFBA_D14)\n",
    "mFBA_D14_res = mFBA_D14_res[cols_interest].copy()\n",
    "mFBA_D14_res[\"Method\"] = \"mFBA\"\n",
    "mFBA_D14_res[\"Cell Type\"] = \"D14 Neuron\"\n",
    "\n",
    "# D28 results\n",
    "FBA_D28_res = tabulate_model_results(model_3,FBA_D28)\n",
    "FBA_D28_res = FBA_D28_res[cols_interest].copy()\n",
    "FBA_D28_res[\"Method\"] = \"FBA\"\n",
    "FBA_D28_res[\"Cell Type\"] = \"D28 Neuron\"\n",
    "\n",
    "mFBA_D28_res = tabulate_model_results(model_3,mFBA_D28)\n",
    "mFBA_D28_res = mFBA_D28_res[cols_interest].copy()\n",
    "mFBA_D28_res[\"Method\"] = \"mFBA\"\n",
    "mFBA_D28_res[\"Cell Type\"] = \"D28 Neuron\"\n",
    "\n",
    "# AC results\n",
    "FBA_AC_res = tabulate_model_results(model_3,FBA_AC)\n",
    "FBA_AC_res = FBA_AC_res[cols_interest].copy()\n",
    "FBA_AC_res[\"Method\"] = \"FBA\"\n",
    "FBA_AC_res[\"Cell Type\"] = \"AC\"\n",
    "\n",
    "mFBA_AC_res = tabulate_model_results(model_3,mFBA_AC)\n",
    "mFBA_AC_res = mFBA_AC_res[cols_interest].copy()\n",
    "mFBA_AC_res[\"Method\"] = \"mFBA\"\n",
    "mFBA_AC_res[\"Cell Type\"] = \"AC\"\n",
    "\n",
    "\n",
    "# MG results\n",
    "FBA_MG_res = tabulate_model_results(model_3,FBA_MG)\n",
    "FBA_MG_res = FBA_MG_res[cols_interest].copy()\n",
    "FBA_MG_res[\"Method\"] = \"FBA\"\n",
    "FBA_MG_res[\"Cell Type\"] = \"MG\"\n",
    "\n",
    "mFBA_MG_res = tabulate_model_results(model_3,mFBA_MG)\n",
    "mFBA_MG_res = mFBA_MG_res[cols_interest].copy()\n",
    "mFBA_MG_res[\"Method\"] = \"mFBA\"\n",
    "mFBA_MG_res[\"Cell Type\"] = \"MG\"\n",
    "\n",
    "df_cells = pd.concat([FBA_D14_res,mFBA_D14_res,FBA_D28_res,mFBA_D28_res,FBA_AC_res,mFBA_AC_res,FBA_MG_res,mFBA_MG_res],axis=0)\n",
    "df_cells = df_cells.copy()"
   ]
  },
  {
   "cell_type": "code",
   "execution_count": 12,
   "id": "9e4fe52e",
   "metadata": {},
   "outputs": [],
   "source": [
    "series_map = {\n",
    "    'GA1':'0-series(ganglio)',\n",
    "    'GA2':'0-series(ganglio)',\n",
    "    'GD1c':'0-series(ganglio)',\n",
    "    'GM1b':'0-series(ganglio)',\n",
    "    'GD1a':'a-series(ganglio)',\n",
    "    'GM1':'a-series(ganglio)',\n",
    "    'GM2':'a-series(ganglio)',\n",
    "    'GM3':'a-series(ganglio)',\n",
    "    'GT1a':'a-series(ganglio)',\n",
    "    'GD1b':'b-series(ganglio)',\n",
    "    'GD2':'b-series(ganglio)',\n",
    "    'GD3':'b-series(ganglio)',\n",
    "    'GQ1b':'b-series(ganglio)',\n",
    "    'GT1b':'b-series(ganglio)',\n",
    "    'GQ1c':'c-series(ganglio)',\n",
    "    'GT1c':'c-series(ganglio)',\n",
    "    'GT2':'c-series(ganglio)',\n",
    "    'GT3':'c-series(ganglio)',\n",
    "    'sialyl-galactosylgloboside':'globo-series',\n",
    "    'fucosyl-galactosylgloboside':'globo-series',\n",
    "    'galactosylgloboside':'globo-series',\n",
    "    'globoside':'globo-series',\n",
    "    'globotriaosylceramide':'globo-series',\n",
    "    'lc3Cer':'(neo)lacto-series',\n",
    "    'lc4Cer':'(neo)lacto-series',\n",
    "    'lactoneotetraosylceramide':'(neo)lacto-series',\n",
    "    'sialyl-3-paragloboside':'(neo)lacto-series',\n",
    "    'type II H glycolipid':'(neo)lacto-series',\n",
    "    'type I H glycolipid':'(neo)lacto-series',\n",
    "    'LacCer pool':'LacCer',\n",
    "    'D-galactosyl-N-acylsphingosine':'gal-series',\n",
    "    'sulfatide galactocerebroside':'gal-series'\n",
    "}\n",
    "\n",
    "# Making D14 Expt Dataframe\n",
    "D14_Lip = [\"GM1b\",\"GD1b\",\"GT1b\",\"GQ1b\",\"GM3\",\"GM2\",\"GM1\",\"GD1a\"]\n",
    "D14_vals = [8,19,29,8,3,3,8,23]\n",
    "D14_dict = {\"Key Product\":D14_Lip,\n",
    "            \"Relative GSL Flux (%)\":D14_vals}\n",
    "D14_df = pd.DataFrame(D14_dict)\n",
    "D14_df[\"Method\"] = \"Expt\"\n",
    "D14_df[\"Cell Type\"] = \"D14 Neuron\"\n",
    "D14_df[\"Lipid Series\"] = D14_df[\"Key Product\"].map(series_map)\n",
    "\n",
    "D28_Lip = [\"GM1b\", \"GQ1b\", \"GD1b\", \"GT1b\", \"GM3\", \"GM1\", \"GD1a\", \"GM2\"]\n",
    "D28_vals = [17,6,16,24,1,8,18,10]\n",
    "D28_dict = {\"Key Product\":D28_Lip,\n",
    "            \"Relative GSL Flux (%)\":D28_vals}\n",
    "D28_df = pd.DataFrame(D28_dict)\n",
    "D28_df[\"Method\"] = \"Expt\"\n",
    "D28_df[\"Cell Type\"] = \"D28 Neuron\"\n",
    "D28_df[\"Lipid Series\"] = D28_df[\"Key Product\"].map(series_map)\n",
    "\n",
    "AC_Lip = [\"GA2\", \"globotriaosylceramide\", \"globoside\", \"galactosylgloboside\", \"GD3\", \"lactoneotetraosylceramide\",\"GM3\",\"GM2\"]\n",
    "AC_vals = [23,5,3,7,3,3,50,6]\n",
    "AC_dict = {\"Key Product\":AC_Lip,\n",
    "            \"Relative GSL Flux (%)\":AC_vals}\n",
    "AC_df = pd.DataFrame(AC_dict)\n",
    "AC_df[\"Method\"] = \"Expt\"\n",
    "AC_df[\"Cell Type\"] = \"AC\"\n",
    "AC_df[\"Lipid Series\"] = AC_df[\"Key Product\"].map(series_map)\n",
    "\n",
    "MG_Lip = [\"GA2\", \"GD1a\", \"globotriaosylceramide\",\"globoside\",\"galactosylgloboside\",\"GD3\",\"lactoneotetraosylceramide\",\"GM2\",\"GM3\"]\n",
    "MG_vals = [2,7,11,10,7,2,16,2,43]\n",
    "MG_dict = {\"Key Product\":MG_Lip,\n",
    "            \"Relative GSL Flux (%)\":MG_vals}\n",
    "MG_df = pd.DataFrame(MG_dict)\n",
    "MG_df[\"Method\"] = \"Expt\"\n",
    "MG_df[\"Cell Type\"] = \"MG\"\n",
    "MG_df[\"Lipid Series\"] = MG_df[\"Key Product\"].map(series_map)\n",
    "\n",
    "df_compare = pd.concat([df_cells,D14_df,D28_df,AC_df,MG_df],axis=0)\n",
    "df_compare[\"Method\"] = pd.Categorical(df_compare[\"Method\"],categories=[\"Expt\",\"FBA\",\"mFBA\"],ordered=True)\n",
    "df_compare[\"Lipid Series\"] = pd.Categorical(df_compare[\"Lipid Series\"],categories=[\"0-series(ganglio)\",\"a-series(ganglio)\",\"b-series(ganglio)\",\"c-series(ganglio)\",\"globo-series\",\"(neo)lacto-series\",\"gal-series\"],ordered=True)\n",
    "df_compare = df_compare.copy()"
   ]
  },
  {
   "cell_type": "code",
   "execution_count": 35,
   "id": "d5fa2f7c",
   "metadata": {},
   "outputs": [
    {
     "data": {
      "text/plain": [
       "[Text(0.5, 0, '')]"
      ]
     },
     "execution_count": 35,
     "metadata": {},
     "output_type": "execute_result"
    },
    {
     "data": {
      "image/png": "[encoded data removed]",
      "text/plain": [
       "<Figure size 1200x600 with 1 Axes>"
      ]
     },
     "metadata": {},
     "output_type": "display_data"
    }
   ],
   "source": [
    "import seaborn as sns\n",
    "import matplotlib.pyplot as plt\n",
    "\n",
    "df_plot = df_compare[df_compare[\"Cell Type\"] == \"MG\"].dropna().copy()\n",
    "# df_plot = df_plot[df_plot[\"Method\"].isin([\"Expt\",\"FBA\"])]\n",
    "\n",
    "\n",
    "fig, ax = plt.subplots(figsize=(12,6))\n",
    "ax = sns.barplot(df_plot,x=\"Lipid Series\",y=\"Relative GSL Flux (%)\",hue=\"Method\",edgecolor=\"black\",estimator=sum,errorbar=None,palette=\"Accent\")\n",
    "plt.xticks(rotation = 20,ha=\"right\")\n",
    "plt.ylabel(\"Relative GSL Flux/Abundance (%)\",fontsize=15)\n",
    "plt.tick_params(axis='both',which='major',labelsize=12)\n",
    "plt.legend(fontsize=12)\n",
    "ax.set(xlabel=None)"
   ]
  },
  {
   "cell_type": "code",
   "execution_count": 11,
   "id": "56261d30",
   "metadata": {},
   "outputs": [
    {
     "data": {
      "text/html": [
       "<div>\n",
       "<style scoped>\n",
       "    .dataframe tbody tr th:only-of-type {\n",
       "        vertical-align: middle;\n",
       "    }\n",
       "\n",
       "    .dataframe tbody tr th {\n",
       "        vertical-align: top;\n",
       "    }\n",
       "\n",
       "    .dataframe thead th {\n",
       "        text-align: right;\n",
       "    }\n",
       "</style>\n",
       "<table border=\"1\" class=\"dataframe\">\n",
       "  <thead>\n",
       "    <tr style=\"text-align: right;\">\n",
       "      <th></th>\n",
       "      <th>Key Product</th>\n",
       "      <th>Relative GSL Flux (%)</th>\n",
       "      <th>Lipid Series</th>\n",
       "      <th>Method</th>\n",
       "      <th>Cell Type</th>\n",
       "    </tr>\n",
       "  </thead>\n",
       "  <tbody>\n",
       "    <tr>\n",
       "      <th>9</th>\n",
       "      <td>GD3</td>\n",
       "      <td>20.0</td>\n",
       "      <td>b-series(ganglio)</td>\n",
       "      <td>FBA</td>\n",
       "      <td>D14 Neuron</td>\n",
       "    </tr>\n",
       "    <tr>\n",
       "      <th>20</th>\n",
       "      <td>GD2</td>\n",
       "      <td>20.0</td>\n",
       "      <td>b-series(ganglio)</td>\n",
       "      <td>FBA</td>\n",
       "      <td>D14 Neuron</td>\n",
       "    </tr>\n",
       "    <tr>\n",
       "      <th>13</th>\n",
       "      <td>GM3</td>\n",
       "      <td>20.0</td>\n",
       "      <td>a-series(ganglio)</td>\n",
       "      <td>FBA</td>\n",
       "      <td>D14 Neuron</td>\n",
       "    </tr>\n",
       "    <tr>\n",
       "      <th>15</th>\n",
       "      <td>GD1b</td>\n",
       "      <td>20.0</td>\n",
       "      <td>b-series(ganglio)</td>\n",
       "      <td>FBA</td>\n",
       "      <td>D14 Neuron</td>\n",
       "    </tr>\n",
       "    <tr>\n",
       "      <th>18</th>\n",
       "      <td>GT1b</td>\n",
       "      <td>20.0</td>\n",
       "      <td>b-series(ganglio)</td>\n",
       "      <td>FBA</td>\n",
       "      <td>D14 Neuron</td>\n",
       "    </tr>\n",
       "  </tbody>\n",
       "</table>\n",
       "</div>"
      ],
      "text/plain": [
       "   Key Product  Relative GSL Flux (%)       Lipid Series Method   Cell Type\n",
       "9          GD3                   20.0  b-series(ganglio)    FBA  D14 Neuron\n",
       "20         GD2                   20.0  b-series(ganglio)    FBA  D14 Neuron\n",
       "13         GM3                   20.0  a-series(ganglio)    FBA  D14 Neuron\n",
       "15        GD1b                   20.0  b-series(ganglio)    FBA  D14 Neuron\n",
       "18        GT1b                   20.0  b-series(ganglio)    FBA  D14 Neuron"
      ]
     },
     "execution_count": 11,
     "metadata": {},
     "output_type": "execute_result"
    }
   ],
   "source": [
    "df_compare.head()"
   ]
  },
  {
   "cell_type": "markdown",
   "id": "73b8327c",
   "metadata": {},
   "source": [
    "### Transcriptomic integration testing"
   ]
  },
  {
   "cell_type": "markdown",
   "id": "1e2b522f",
   "metadata": {},
   "source": [
    "Testing standard iMAT integration"
   ]
  },
  {
   "cell_type": "code",
   "execution_count": null,
   "id": "e964260f",
   "metadata": {},
   "outputs": [],
   "source": [
    "import pandas as pd\n",
    "# Making a dummy dataframe\n",
    "d = {\n",
    "    \"Gene\" : [\"B4GALNT1\", \"ST3GAL5\", \"ST8SIA1\",\"A4GALT\"],\n",
    "    \"Sample_1\" : [8,6,4,2]\n",
    "}\n",
    "\n",
    "# Converting the dictionary to a pandas dataframe and setting the index to Gene\n",
    "iMAT_df_1 = pd.DataFrame(d)\n",
    "iMAT_df_1 = iMAT_df_1.set_index(\"Gene\").copy()\n",
    "\n",
    "from pyGSLModel import iMAT_integrate, tabulate_model_results\n",
    "sol_4 = iMAT_integrate(model_3,iMAT_df_1)\n",
    "\n",
    "results_4 = tabulate_model_results(model_3, sol_4)\n",
    "results_4.head()"
   ]
  },
  {
   "cell_type": "markdown",
   "id": "3cec9d41",
   "metadata": {},
   "source": [
    "Testing multi sample iMat integration with a dummy dataframe"
   ]
  },
  {
   "cell_type": "code",
   "execution_count": null,
   "id": "1a999874",
   "metadata": {},
   "outputs": [],
   "source": [
    "import pandas as pd\n",
    "# Making a dummy dataframe\n",
    "d = {\n",
    "    \"Gene\" : [\"B4GALNT1\", \"ST3GAL5\", \"ST8SIA1\",\"A4GALT\"],\n",
    "    \"Sample_1\" : [8,6,4,2],\n",
    "    \"Sample_2\" : [2,4,6,8],\n",
    "    \"Sample_3\" : [6,2,8,4],\n",
    "    \"Sample_4\" : [4,8,2,6]\n",
    "}\n",
    "\n",
    "# Converting the dictionary to a pandas dataframe and setting the index to Gene\n",
    "iMAT_df_1 = pd.DataFrame(d)\n",
    "iMAT_df_1 = iMAT_df_1.set_index(\"Gene\").copy()\n",
    "\n",
    "# Performing the iMAT integration for the custom data\n",
    "from pyGSLModel import iMAT_multi_integrate\n",
    "iMAT_res_1 = iMAT_multi_integrate(model_3, iMAT_df_1)\n",
    "\n",
    "iMAT_res_1"
   ]
  },
  {
   "cell_type": "markdown",
   "id": "6be14e7f",
   "metadata": {},
   "source": [
    "Testing average TCGA integration with iMAT"
   ]
  },
  {
   "cell_type": "code",
   "execution_count": null,
   "id": "3e279cde",
   "metadata": {},
   "outputs": [],
   "source": [
    "from pyGSLModel import TCGA_iMAT_integrate\n",
    "\n",
    "# Lets adjust upper and lower quantiles here to select the top and bottom 15% of genes instead. We're going to leave epsilon and threshold alone\n",
    "iMAT_TCGA_1, sol_dict = TCGA_iMAT_integrate(model_3, epsilon=10,threshold=0.1)\n",
    "\n",
    "iMAT_TCGA_1.head()"
   ]
  },
  {
   "cell_type": "markdown",
   "id": "0b0c6ab7",
   "metadata": {},
   "source": [
    "Testing Integration with example"
   ]
  },
  {
   "cell_type": "code",
   "execution_count": null,
   "id": "b1cc76f2",
   "metadata": {},
   "outputs": [],
   "source": [
    "import pandas as pd\n",
    "df_GBM_LGG = pd.read_csv(\"C:/Users/ottoc/OneDrive - University of Cambridge/PhD Year 3/GSL_Metabolism_Project/Python_Package/Brain_Vis/df_GBM_LGG.csv\")\n",
    "df_GBM_LGG = df_GBM_LGG.set_index(\"Gene\").copy()\n",
    "df_GBM_LGG.head()\n",
    "\n",
    "from pyGSLModel import iMAT_multi_integrate\n",
    "\n",
    "GBM_LGG_res_df, GBM_LGG_sol = iMAT_multi_integrate(model_3,df_GBM_LGG,upper_quantile=0.5,lower_quantile=0.5,epsilon=40,threshold=20)"
   ]
  },
  {
   "cell_type": "code",
   "execution_count": null,
   "id": "3be987c5",
   "metadata": {},
   "outputs": [],
   "source": [
    "def convert_col(col):\n",
    "    u_q = col.quantile(0.5)\n",
    "    l_q = col.quantile(0.5)\n",
    "\n",
    "    converted = col.copy()\n",
    "    converted[col > l_q] = 1\n",
    "    converted[col < u_q] = -1\n",
    "    converted[(col >= u_q) & (col <= l_q)] = 0\n",
    "\n",
    "    return converted\n",
    "\n",
    "convert_col(df_GBM_LGG)"
   ]
  },
  {
   "cell_type": "code",
   "execution_count": null,
   "id": "17413c2d",
   "metadata": {},
   "outputs": [],
   "source": [
    "from pyGSLModel import tabulate_model_results\n",
    "GBM_dat = tabulate_model_results(model_3,GBM_LGG_sol[\"GBM_sol\"])\n",
    "GBM_dat[\"status\"] = \"GBM\"\n",
    "LGG_1_dat = tabulate_model_results(model_3,GBM_LGG_sol[\"LGG <1Yr Survival_sol\"])\n",
    "LGG_1_dat[\"status\"] = \"LGG <1Yr Survival\"\n",
    "LGG_2_dat = tabulate_model_results(model_3,GBM_LGG_sol[\"LGG >1 Yr Survival_sol\"])\n",
    "LGG_2_dat[\"status\"] = \"LGG >1 Yr Survival\"\n",
    "\n",
    "import pandas as pd\n",
    "brain_df = pd.concat([GBM_dat,LGG_1_dat,LGG_2_dat],axis=0)"
   ]
  },
  {
   "cell_type": "code",
   "execution_count": null,
   "id": "5a5e74a2",
   "metadata": {},
   "outputs": [],
   "source": [
    "import seaborn as sns\n",
    "import matplotlib.pyplot as plt\n",
    "\n",
    "fig, ax = plt.subplots(figsize=(12,6))\n",
    "ax = sns.barplot(brain_df,x=\"Lipid Series\",y=\"Flux (mmol/gDW/hr)\",hue=\"status\",edgecolor=\"black\",estimator=sum,errorbar=None)\n",
    "plt.xticks(rotation = 20,ha=\"right\")\n",
    "ax.set(xlabel=None)"
   ]
  },
  {
   "cell_type": "code",
   "execution_count": null,
   "id": "6fa1c435",
   "metadata": {},
   "outputs": [],
   "source": [
    "from pyGSLModel import visualise_flux_network\n",
    "visualise_flux_network(model_3,GBM_LGG_sol[\"GBM_sol\"],file_path=\"C:/Users/ottoc/OneDrive - University of Cambridge/PhD Year 3/GSL_Metabolism_Project/Python_Package/Brain_Vis/GBM_network.html\",height=\"1080px\",width=\"100%\",rxn_col=\"#1f77b4\",met_col=\"#abdcff\")\n",
    "visualise_flux_network(model_3,GBM_LGG_sol[\"LGG <1Yr Survival_sol\"],file_path=\"C:/Users/ottoc/OneDrive - University of Cambridge/PhD Year 3/GSL_Metabolism_Project/Python_Package/Brain_Vis/LGG_network_ls.html\",height=\"1080px\",width=\"100%\",rxn_col=\"#ff7f0e\",met_col=\"#ffca9c\")\n",
    "visualise_flux_network(model_3,GBM_LGG_sol[\"LGG >1 Yr Survival_sol\"],file_path=\"C:/Users/ottoc/OneDrive - University of Cambridge/PhD Year 3/GSL_Metabolism_Project/Python_Package/Brain_Vis/LGG_network_gs.html\",height=\"1080px\",width=\"100%\",rxn_col=\"#2ca02c\",met_col=\"#99ed99\")"
   ]
  },
  {
   "cell_type": "markdown",
   "id": "a23c6d2f",
   "metadata": {},
   "source": [
    "Bile Duct example"
   ]
  },
  {
   "cell_type": "code",
   "execution_count": null,
   "id": "3bd76656",
   "metadata": {},
   "outputs": [],
   "source": [
    "import pandas as pd\n",
    "df_bd = pd.read_csv(\"C:/Users/ottoc/OneDrive - University of Cambridge/PhD Year 3/GSL_Metabolism_Project/Python_Package/Cholangiocarcinoma_Vis/BD_C.csv\")\n",
    "df_bd = df_bd.set_index(\"Gene\").copy()\n",
    "df_bd.head()\n",
    "\n",
    "from pyGSLModel import iMAT_multi_integrate\n",
    "\n",
    "bd_res_df, bd_sol = iMAT_multi_integrate(model_3,df_bd,upper_quantile=0.5,lower_quantile=0.5,epsilon=40,threshold=20)"
   ]
  },
  {
   "cell_type": "code",
   "execution_count": null,
   "id": "f825b513",
   "metadata": {},
   "outputs": [],
   "source": [
    "from pyGSLModel import tabulate_model_results\n",
    "cholangio_dat = tabulate_model_results(model_3,bd_sol[\"Primary Tumor_sol\"])\n",
    "cholangio_dat[\"status\"] = \"Cholangiocarcinoma\"\n",
    "bd_dat = tabulate_model_results(model_3,bd_sol[\"Solid Tissue Normal_sol\"])\n",
    "bd_dat[\"status\"] = \"Bile Duct Normal Adjacent Tissue\"\n",
    "\n",
    "\n",
    "import pandas as pd\n",
    "bdc_df = pd.concat([cholangio_dat,bd_dat],axis=0)\n",
    "bdc_df.head()"
   ]
  },
  {
   "cell_type": "code",
   "execution_count": null,
   "id": "a44d3949",
   "metadata": {},
   "outputs": [],
   "source": [
    "import seaborn as sns\n",
    "import matplotlib.pyplot as plt\n",
    "\n",
    "fig, ax = plt.subplots(figsize=(12,6))\n",
    "ax = sns.barplot(bdc_df,x=\"Lipid Series\",y=\"Flux (mmol/gDW/hr)\",hue=\"status\",edgecolor=\"black\",estimator=sum,errorbar=None)\n",
    "plt.xticks(rotation = 20,ha=\"right\")\n",
    "ax.set(xlabel=None)"
   ]
  },
  {
   "cell_type": "markdown",
   "id": "cf05f8af",
   "metadata": {},
   "source": [
    "Testing sample wise iMAT integration of TCGA data"
   ]
  },
  {
   "cell_type": "code",
   "execution_count": null,
   "id": "9bdaab7d",
   "metadata": {},
   "outputs": [],
   "source": [
    "from pyGSLModel import TCGA_iMAT_sample_integrate\n",
    "\n",
    "# Selecting Bile duct for tissue argument as this has fewer samples (Brain has something like 2000 so takes a while). Leaving other arguments as default\n",
    "iMAT_TCGA_sample = TCGA_iMAT_sample_integrate(model_3, tissue=\"Bile duct\")\n",
    "\n",
    "iMAT_TCGA_sample.head()"
   ]
  }
 ],
 "metadata": {
  "kernelspec": {
   "display_name": ".conda",
   "language": "python",
   "name": "python3"
  },
  "language_info": {
   "codemirror_mode": {
    "name": "ipython",
    "version": 3
   },
   "file_extension": ".py",
   "mimetype": "text/x-python",
   "name": "python",
   "nbconvert_exporter": "python",
   "pygments_lexer": "ipython3",
   "version": "3.11.11"
  }
 },
 "nbformat": 4,
 "nbformat_minor": 5
}
