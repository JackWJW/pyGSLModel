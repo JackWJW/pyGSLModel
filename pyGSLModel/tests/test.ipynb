{
 "cells": [
  {
   "cell_type": "markdown",
   "id": "6b0bb6bc",
   "metadata": {},
   "source": [
    "Testing document for pyGSLModel"
   ]
  },
  {
   "cell_type": "code",
   "execution_count": null,
   "id": "f70a0396",
   "metadata": {},
   "outputs": [],
   "source": [
    "# Downloading pruned model\n",
    "from pyGSLModel.src.pyGSLModel import download_GSL_model\n",
    "\n",
    "model = download_GSL_model()"
   ]
  },
  {
   "cell_type": "code",
   "execution_count": null,
   "id": "1a999874",
   "metadata": {},
   "outputs": [],
   "source": [
    "import pandas as pd\n",
    "# Making a dummy dataframe\n",
    "d = {\n",
    "    \"Gene\" : [\"B4GALNT1\", \"ST3GAL5\", \"ST8SIA1\"],\n",
    "    \"Sample_1\" : [10,5,1],\n",
    "    \"Sample_2\" : [1,5,10]\n",
    "}\n",
    "\n",
    "test_df = pd.DataFrame(d)\n",
    "\n",
    "test_df = test_df.set_index(\"Gene\")\n",
    "\n",
    "test_df"
   ]
  },
  {
   "cell_type": "code",
   "execution_count": null,
   "id": "675fca1d",
   "metadata": {},
   "outputs": [],
   "source": [
    "from pyGSLModel.src.pyGSLModel import iMAT_integrate\n",
    "\n",
    "imat_test = iMAT_integrate(model, test_df)"
   ]
  }
 ],
 "metadata": {
  "kernelspec": {
   "display_name": ".conda",
   "language": "python",
   "name": "python3"
  },
  "language_info": {
   "codemirror_mode": {
    "name": "ipython",
    "version": 3
   },
   "file_extension": ".py",
   "mimetype": "text/x-python",
   "name": "python",
   "nbconvert_exporter": "python",
   "pygments_lexer": "ipython3",
   "version": "3.11.11"
  }
 },
 "nbformat": 4,
 "nbformat_minor": 5
}
