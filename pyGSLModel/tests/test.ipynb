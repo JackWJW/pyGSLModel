{
 "cells": [
  {
   "cell_type": "markdown",
   "id": "6b0bb6bc",
   "metadata": {},
   "source": [
    "# Testing document for pyGSLModel"
   ]
  },
  {
   "cell_type": "markdown",
   "id": "3f762190",
   "metadata": {},
   "source": [
    "### Testing model download and pruning functions"
   ]
  },
  {
   "cell_type": "markdown",
   "id": "a69c33ec",
   "metadata": {},
   "source": [
    "Standard HUMAN-GEM model downlaod test"
   ]
  },
  {
   "cell_type": "code",
   "execution_count": null,
   "id": "a311f9e0",
   "metadata": {},
   "outputs": [],
   "source": [
    "# Downloading standard Human-GEM model\n",
    "from pyGSLModel import download_model\n",
    "\n",
    "model_1 = download_model()\n",
    "\n",
    "print(f\"Number of Reactions in model : {len(model_1.reactions)}\")\n",
    "print(f\"Number of Metabolites in model : {len(model_1.metabolites)}\")\n",
    "print(f\"Number of Genes in model : {len(model_1.genes)}\")"
   ]
  },
  {
   "cell_type": "markdown",
   "id": "1db70d81",
   "metadata": {},
   "source": [
    "Converting gene symbols, model pruning, and removing transport reactions test"
   ]
  },
  {
   "cell_type": "code",
   "execution_count": null,
   "id": "f70a0396",
   "metadata": {},
   "outputs": [],
   "source": [
    "# Converting gene names, pruning the model and removing GSl transport reactions\n",
    "from pyGSLModel import convert_genes, prune_model, remove_GSL_transport\n",
    "\n",
    "model_2 = convert_genes(model_1)\n",
    "model_2 = prune_model(model_2)\n",
    "model_2 = remove_GSL_transport(model_2)\n",
    "\n",
    "print(f\"Number of Reactions in model : {len(model_2.reactions)}\")\n",
    "print(f\"Number of Metabolites in model : {len(model_2.metabolites)}\")\n",
    "print(f\"Number of Genes in model : {len(model_2.genes)}\")\n",
    "\n",
    "print(f\"Checking gene symbol conversion :\")\n",
    "model_2.genes.get_by_id(\"UGT8\")"
   ]
  },
  {
   "cell_type": "markdown",
   "id": "a06337d2",
   "metadata": {},
   "source": [
    "Testing download of pre-pruned model"
   ]
  },
  {
   "cell_type": "code",
   "execution_count": 1,
   "id": "fb1d8016",
   "metadata": {},
   "outputs": [
    {
     "name": "stdout",
     "output_type": "stream",
     "text": [
      "Downloading  and Reading in Model\n",
      "Model succesfully downloaded and read in.\n",
      "Number of Reactions in model : 2312\n",
      "Number of Metabolites in model : 2015\n",
      "Number of Genes in model : 2887\n",
      "Checking gene symbol conversion :\n"
     ]
    },
    {
     "data": {
      "text/html": [
       "\n",
       "        <table>\n",
       "            <tr>\n",
       "                <td><strong>Gene identifier</strong></td><td>UGT8</td>\n",
       "            </tr><tr>\n",
       "                <td><strong>Name</strong></td><td>G_UGT8</td>\n",
       "            </tr><tr>\n",
       "                <td><strong>Memory address</strong></td>\n",
       "                <td>0x260448edd50</td>\n",
       "            </tr><tr>\n",
       "                <td><strong>Functional</strong></td><td>True</td>\n",
       "            </tr><tr>\n",
       "                <td><strong>In 2 reaction(s)</strong></td><td>\n",
       "                    MAR00919, MAR00920\n",
       "                    </td>\n",
       "            </tr>\n",
       "        </table>"
      ],
      "text/plain": [
       "<Gene UGT8 at 0x260448edd50>"
      ]
     },
     "execution_count": 1,
     "metadata": {},
     "output_type": "execute_result"
    }
   ],
   "source": [
    "# Testing pre-pruned model download\n",
    "from pyGSLModel import download_GSL_model\n",
    "\n",
    "model_3 = download_GSL_model()\n",
    "\n",
    "print(f\"Number of Reactions in model : {len(model_3.reactions)}\")\n",
    "print(f\"Number of Metabolites in model : {len(model_3.metabolites)}\")\n",
    "print(f\"Number of Genes in model : {len(model_3.genes)}\")\n",
    "\n",
    "print(f\"Checking gene symbol conversion :\")\n",
    "model_3.genes.get_by_id(\"UGT8\")"
   ]
  },
  {
   "cell_type": "markdown",
   "id": "595d7091",
   "metadata": {},
   "source": [
    "### Testing performing simulations and analysing results"
   ]
  },
  {
   "cell_type": "markdown",
   "id": "6d3c2292",
   "metadata": {},
   "source": [
    "Performing a generic FBA simulation"
   ]
  },
  {
   "cell_type": "code",
   "execution_count": null,
   "id": "be546f0e",
   "metadata": {},
   "outputs": [],
   "source": [
    "from pyGSLModel import run_metabolic_model, tabulate_model_results, plot_model_results\n",
    "\n",
    "# Running Basic simulation\n",
    "sol_1 = run_metabolic_model(model_3, method=\"FBA\",objective_choice=\"D14_Neuron\")\n",
    "\n",
    "# Preparing dataframe\n",
    "results_1 = tabulate_model_results(model_3,sol_1)\n",
    "print(results_1.head())\n",
    "\n",
    "# Generating plot\n",
    "fig_1 = plot_model_results(results_1)\n",
    "fig_1"
   ]
  },
  {
   "cell_type": "markdown",
   "id": "a4ff3728",
   "metadata": {},
   "source": [
    "Performing a knockout simulation"
   ]
  },
  {
   "cell_type": "code",
   "execution_count": null,
   "id": "a2619228",
   "metadata": {},
   "outputs": [],
   "source": [
    "from pyGSLModel import run_metabolic_model, tabulate_model_results, plot_model_results\n",
    "\n",
    "# Running Basic simulation\n",
    "sol_2 = run_metabolic_model(model_3, method=\"FBA\",objective_choice=\"AC\",knockout=\"B4GALNT1\")\n",
    "\n",
    "# Preparing dataframe\n",
    "results_2 = tabulate_model_results(model_3,sol_2)\n",
    "print(results_2.head())\n",
    "\n",
    "# Generating plot\n",
    "fig_2 = plot_model_results(results_2)\n",
    "fig_2"
   ]
  },
  {
   "cell_type": "markdown",
   "id": "077184cc",
   "metadata": {},
   "source": [
    "Performing mFBA simulation"
   ]
  },
  {
   "cell_type": "code",
   "execution_count": null,
   "id": "f8b78310",
   "metadata": {},
   "outputs": [],
   "source": [
    "from pyGSLModel import run_metabolic_model, tabulate_model_results, plot_model_results\n",
    "\n",
    "# Running Basic simulation\n",
    "sol_3 = run_metabolic_model(model_3, method=\"mFBA\",objective_choice=\"D14_Neuron\")\n",
    "\n",
    "# Preparing dataframe\n",
    "results_3 = tabulate_model_results(model_3,sol_3)\n",
    "print(results_3.head())\n",
    "\n",
    "# Generating plot\n",
    "fig_3 = plot_model_results(results_3)\n",
    "fig_3"
   ]
  },
  {
   "cell_type": "markdown",
   "id": "59c2060f",
   "metadata": {},
   "source": [
    "Testing network visualisation. This saves a .html file"
   ]
  },
  {
   "cell_type": "code",
   "execution_count": null,
   "id": "346cdd0c",
   "metadata": {},
   "outputs": [],
   "source": [
    "from pyGSLModel import visualise_flux_network\n",
    "\n",
    "visualise_flux_network(model_3,sol_3,file_path=\"./flux_network_test.html\",height=\"1080px\",width=\"100%\")\n"
   ]
  },
  {
   "cell_type": "markdown",
   "id": "73b8327c",
   "metadata": {},
   "source": [
    "### Transcriptomic integration testing"
   ]
  },
  {
   "cell_type": "markdown",
   "id": "1e2b522f",
   "metadata": {},
   "source": [
    "Testing standard iMAT integration"
   ]
  },
  {
   "cell_type": "code",
   "execution_count": null,
   "id": "e964260f",
   "metadata": {},
   "outputs": [],
   "source": [
    "import pandas as pd\n",
    "# Making a dummy dataframe\n",
    "d = {\n",
    "    \"Gene\" : [\"B4GALNT1\", \"ST3GAL5\", \"ST8SIA1\",\"A4GALT\"],\n",
    "    \"Sample_1\" : [8,6,4,2]\n",
    "}\n",
    "\n",
    "# Converting the dictionary to a pandas dataframe and setting the index to Gene\n",
    "iMAT_df_1 = pd.DataFrame(d)\n",
    "iMAT_df_1 = iMAT_df_1.set_index(\"Gene\").copy()\n",
    "\n",
    "from pyGSLModel import iMAT_integrate, tabulate_model_results\n",
    "sol_4 = iMAT_integrate(model_3,iMAT_df_1)\n",
    "\n",
    "results_4 = tabulate_model_results(model_3, sol_4)\n",
    "results_4.head()"
   ]
  },
  {
   "cell_type": "markdown",
   "id": "3cec9d41",
   "metadata": {},
   "source": [
    "Testing multi sample iMat integration with a dummy dataframe"
   ]
  },
  {
   "cell_type": "code",
   "execution_count": null,
   "id": "1a999874",
   "metadata": {},
   "outputs": [],
   "source": [
    "import pandas as pd\n",
    "# Making a dummy dataframe\n",
    "d = {\n",
    "    \"Gene\" : [\"B4GALNT1\", \"ST3GAL5\", \"ST8SIA1\",\"A4GALT\"],\n",
    "    \"Sample_1\" : [8,6,4,2],\n",
    "    \"Sample_2\" : [2,4,6,8],\n",
    "    \"Sample_3\" : [6,2,8,4],\n",
    "    \"Sample_4\" : [4,8,2,6]\n",
    "}\n",
    "\n",
    "# Converting the dictionary to a pandas dataframe and setting the index to Gene\n",
    "iMAT_df_1 = pd.DataFrame(d)\n",
    "iMAT_df_1 = iMAT_df_1.set_index(\"Gene\").copy()\n",
    "\n",
    "# Performing the iMAT integration for the custom data\n",
    "from pyGSLModel import iMAT_multi_integrate\n",
    "iMAT_res_1 = iMAT_multi_integrate(model_3, iMAT_df_1)\n",
    "\n",
    "iMAT_res_1"
   ]
  },
  {
   "cell_type": "markdown",
   "id": "6be14e7f",
   "metadata": {},
   "source": [
    "Testing average TCGA integration with iMAT"
   ]
  },
  {
   "cell_type": "code",
   "execution_count": null,
   "id": "3e279cde",
   "metadata": {},
   "outputs": [],
   "source": [
    "from pyGSLModel import TCGA_iMAT_integrate\n",
    "\n",
    "# Lets adjust upper and lower quantiles here to select the top and bottom 15% of genes instead. We're going to leave epsilon and threshold alone\n",
    "iMAT_TCGA_1, sol_dict = TCGA_iMAT_integrate(model_3, epsilon=10,threshold=0.1)\n",
    "\n",
    "iMAT_TCGA_1.head()"
   ]
  },
  {
   "cell_type": "markdown",
   "id": "0b0c6ab7",
   "metadata": {},
   "source": [
    "Testing Integration with example"
   ]
  },
  {
   "cell_type": "code",
   "execution_count": 2,
   "id": "b1cc76f2",
   "metadata": {},
   "outputs": [
    {
     "name": "stdout",
     "output_type": "stream",
     "text": [
      "Simulations Performed:1/3\n",
      "Simulations Performed:2/3\n",
      "Simulations Performed:3/3\n"
     ]
    }
   ],
   "source": [
    "import pandas as pd\n",
    "df_GBM_LGG = pd.read_csv(\"C:/Users/ottoc/OneDrive - University of Cambridge/PhD Year 3/GSL_Metabolism_Project/Python_Package/Brain_Vis/df_GBM_LGG.csv\")\n",
    "df_GBM_LGG = df_GBM_LGG.set_index(\"Gene\").copy()\n",
    "df_GBM_LGG.head()\n",
    "\n",
    "from pyGSLModel import iMAT_multi_integrate\n",
    "\n",
    "GBM_LGG_res_df, GBM_LGG_sol = iMAT_multi_integrate(model_3,df_GBM_LGG,upper_quantile=0.5,lower_quantile=0.5,epsilon=40,threshold=20)"
   ]
  },
  {
   "cell_type": "code",
   "execution_count": 3,
   "id": "17413c2d",
   "metadata": {},
   "outputs": [],
   "source": [
    "from pyGSLModel import tabulate_model_results\n",
    "GBM_dat = tabulate_model_results(model_3,GBM_LGG_sol[\"GBM_sol\"])\n",
    "GBM_dat[\"status\"] = \"GBM\"\n",
    "LGG_1_dat = tabulate_model_results(model_3,GBM_LGG_sol[\"LGG <1Yr Survival_sol\"])\n",
    "LGG_1_dat[\"status\"] = \"LGG <1Yr Survival\"\n",
    "LGG_2_dat = tabulate_model_results(model_3,GBM_LGG_sol[\"LGG >1 Yr Survival_sol\"])\n",
    "LGG_2_dat[\"status\"] = \"LGG >1 Yr Survival\"\n",
    "\n",
    "import pandas as pd\n",
    "brain_df = pd.concat([GBM_dat,LGG_1_dat,LGG_2_dat],axis=0)"
   ]
  },
  {
   "cell_type": "code",
   "execution_count": 4,
   "id": "5a5e74a2",
   "metadata": {},
   "outputs": [
    {
     "data": {
      "text/plain": [
       "[Text(0.5, 0, '')]"
      ]
     },
     "execution_count": 4,
     "metadata": {},
     "output_type": "execute_result"
    },
    {
     "data": {
      "image/png": "[encoded data removed]",
      "text/plain": [
       "<Figure size 1200x600 with 1 Axes>"
      ]
     },
     "metadata": {},
     "output_type": "display_data"
    }
   ],
   "source": [
    "import seaborn as sns\n",
    "import matplotlib.pyplot as plt\n",
    "\n",
    "fig, ax = plt.subplots(figsize=(12,6))\n",
    "ax = sns.barplot(brain_df,x=\"Lipid Series\",y=\"Flux (mmol/gDW/hr)\",hue=\"status\",edgecolor=\"black\",estimator=sum,errorbar=None)\n",
    "plt.xticks(rotation = 20,ha=\"right\")\n",
    "ax.set(xlabel=None)"
   ]
  },
  {
   "cell_type": "code",
   "execution_count": 5,
   "id": "6fa1c435",
   "metadata": {},
   "outputs": [
    {
     "name": "stdout",
     "output_type": "stream",
     "text": [
      "html file wrtten to: C:/Users/ottoc/OneDrive - University of Cambridge/PhD Year 3/GSL_Metabolism_Project/Python_Package/Brain_Vis/GBM_network.html\n",
      "html file wrtten to: C:/Users/ottoc/OneDrive - University of Cambridge/PhD Year 3/GSL_Metabolism_Project/Python_Package/Brain_Vis/LGG_network_ls.html\n",
      "html file wrtten to: C:/Users/ottoc/OneDrive - University of Cambridge/PhD Year 3/GSL_Metabolism_Project/Python_Package/Brain_Vis/LGG_network_gs.html\n"
     ]
    }
   ],
   "source": [
    "from pyGSLModel import visualise_flux_network\n",
    "visualise_flux_network(model_3,GBM_LGG_sol[\"GBM_sol\"],file_path=\"C:/Users/ottoc/OneDrive - University of Cambridge/PhD Year 3/GSL_Metabolism_Project/Python_Package/Brain_Vis/GBM_network.html\",height=\"1080px\",width=\"100%\",rxn_col=\"#1f77b4\",met_col=\"#abdcff\")\n",
    "visualise_flux_network(model_3,GBM_LGG_sol[\"LGG <1Yr Survival_sol\"],file_path=\"C:/Users/ottoc/OneDrive - University of Cambridge/PhD Year 3/GSL_Metabolism_Project/Python_Package/Brain_Vis/LGG_network_ls.html\",height=\"1080px\",width=\"100%\",rxn_col=\"#ff7f0e\",met_col=\"#ffca9c\")\n",
    "visualise_flux_network(model_3,GBM_LGG_sol[\"LGG >1 Yr Survival_sol\"],file_path=\"C:/Users/ottoc/OneDrive - University of Cambridge/PhD Year 3/GSL_Metabolism_Project/Python_Package/Brain_Vis/LGG_network_gs.html\",height=\"1080px\",width=\"100%\",rxn_col=\"#2ca02c\",met_col=\"#99ed99\")"
   ]
  },
  {
   "cell_type": "markdown",
   "id": "a23c6d2f",
   "metadata": {},
   "source": [
    "Bile Duct example"
   ]
  },
  {
   "cell_type": "code",
   "execution_count": null,
   "id": "3bd76656",
   "metadata": {},
   "outputs": [],
   "source": [
    "import pandas as pd\n",
    "df_bd = pd.read_csv(\"C:/Users/ottoc/OneDrive - University of Cambridge/PhD Year 3/GSL_Metabolism_Project/Python_Package/Cholangiocarcinoma_Vis/BD_C.csv\")\n",
    "df_bd = df_bd.set_index(\"Gene\").copy()\n",
    "df_bd.head()\n",
    "\n",
    "from pyGSLModel import iMAT_multi_integrate\n",
    "\n",
    "bd_res_df, bd_sol = iMAT_multi_integrate(model_3,df_bd,upper_quantile=0.5,lower_quantile=0.5,epsilon=40,threshold=20)"
   ]
  },
  {
   "cell_type": "code",
   "execution_count": null,
   "id": "f825b513",
   "metadata": {},
   "outputs": [],
   "source": [
    "from pyGSLModel import tabulate_model_results\n",
    "cholangio_dat = tabulate_model_results(model_3,bd_sol[\"Primary Tumor_sol\"])\n",
    "cholangio_dat[\"status\"] = \"Cholangiocarcinoma\"\n",
    "bd_dat = tabulate_model_results(model_3,bd_sol[\"Solid Tissue Normal_sol\"])\n",
    "bd_dat[\"status\"] = \"Bile Duct Normal Adjacent Tissue\"\n",
    "\n",
    "\n",
    "import pandas as pd\n",
    "bdc_df = pd.concat([cholangio_dat,bd_dat],axis=0)\n",
    "bdc_df.head()"
   ]
  },
  {
   "cell_type": "code",
   "execution_count": null,
   "id": "a44d3949",
   "metadata": {},
   "outputs": [],
   "source": [
    "import seaborn as sns\n",
    "import matplotlib.pyplot as plt\n",
    "\n",
    "fig, ax = plt.subplots(figsize=(12,6))\n",
    "ax = sns.barplot(bdc_df,x=\"Lipid Series\",y=\"Flux (mmol/gDW/hr)\",hue=\"status\",edgecolor=\"black\",estimator=sum,errorbar=None)\n",
    "plt.xticks(rotation = 20,ha=\"right\")\n",
    "ax.set(xlabel=None)"
   ]
  },
  {
   "cell_type": "markdown",
   "id": "cf05f8af",
   "metadata": {},
   "source": [
    "Testing sample wise iMAT integration of TCGA data"
   ]
  },
  {
   "cell_type": "code",
   "execution_count": null,
   "id": "9bdaab7d",
   "metadata": {},
   "outputs": [],
   "source": [
    "from pyGSLModel import TCGA_iMAT_sample_integrate\n",
    "\n",
    "# Selecting Bile duct for tissue argument as this has fewer samples (Brain has something like 2000 so takes a while). Leaving other arguments as default\n",
    "iMAT_TCGA_sample = TCGA_iMAT_sample_integrate(model_3, tissue=\"Bile duct\")\n",
    "\n",
    "iMAT_TCGA_sample.head()"
   ]
  }
 ],
 "metadata": {
  "kernelspec": {
   "display_name": ".conda",
   "language": "python",
   "name": "python3"
  },
  "language_info": {
   "codemirror_mode": {
    "name": "ipython",
    "version": 3
   },
   "file_extension": ".py",
   "mimetype": "text/x-python",
   "name": "python",
   "nbconvert_exporter": "python",
   "pygments_lexer": "ipython3",
   "version": "3.11.11"
  }
 },
 "nbformat": 4,
 "nbformat_minor": 5
}
