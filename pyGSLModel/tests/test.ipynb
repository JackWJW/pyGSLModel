{
 "cells": [
  {
   "cell_type": "markdown",
   "id": "6b0bb6bc",
   "metadata": {},
   "source": [
    "# Testing document for pyGSLModel"
   ]
  },
  {
   "cell_type": "markdown",
   "id": "3f762190",
   "metadata": {},
   "source": [
    "### Testing model download and pruning functions"
   ]
  },
  {
   "cell_type": "markdown",
   "id": "a69c33ec",
   "metadata": {},
   "source": [
    "Standard HUMAN-GEM model downlaod test"
   ]
  },
  {
   "cell_type": "code",
   "execution_count": null,
   "id": "a311f9e0",
   "metadata": {},
   "outputs": [],
   "source": [
    "# Downloading standard Human-GEM model\n",
    "from pyGSLModel import download_model\n",
    "\n",
    "model_1 = download_model()\n",
    "\n",
    "print(f\"Number of Reactions in model : {len(model_1.reactions)}\")\n",
    "print(f\"Number of Metabolites in model : {len(model_1.metabolites)}\")\n",
    "print(f\"Number of Genes in model : {len(model_1.genes)}\")"
   ]
  },
  {
   "cell_type": "markdown",
   "id": "1db70d81",
   "metadata": {},
   "source": [
    "Converting gene symbols, model pruning, and removing transport reactions test"
   ]
  },
  {
   "cell_type": "code",
   "execution_count": null,
   "id": "f70a0396",
   "metadata": {},
   "outputs": [],
   "source": [
    "# Converting gene names, pruning the model and removing GSl transport reactions\n",
    "from pyGSLModel import convert_genes, prune_model, remove_GSL_transport\n",
    "\n",
    "model_2 = convert_genes(model_1)\n",
    "model_2 = prune_model(model_2)\n",
    "model_2 = remove_GSL_transport(model_2)\n",
    "\n",
    "print(f\"Number of Reactions in model : {len(model_1.reactions)}\")\n",
    "print(f\"Number of Metabolites in model : {len(model_1.metabolites)}\")\n",
    "print(f\"Number of Genes in model : {len(model_1.genes)}\")\n",
    "\n",
    "print(f\"Checking gene symbol conversion :\")\n",
    "model_1.genes.get_by_id(\"B4GALNT1\")"
   ]
  },
  {
   "cell_type": "markdown",
   "id": "a06337d2",
   "metadata": {},
   "source": [
    "Testing download of pre-pruned model"
   ]
  },
  {
   "cell_type": "code",
   "execution_count": 1,
   "id": "fb1d8016",
   "metadata": {},
   "outputs": [
    {
     "name": "stdout",
     "output_type": "stream",
     "text": [
      "Downloading  and Reading in Model\n",
      "Model succesfully downloaded and read in.\n",
      "Number of Reactions in model : 2307\n",
      "Number of Metabolites in model : 2009\n",
      "Number of Genes in model : 2887\n",
      "Checking gene symbol conversion :\n"
     ]
    },
    {
     "data": {
      "text/html": [
       "\n",
       "        <table>\n",
       "            <tr>\n",
       "                <td><strong>Gene identifier</strong></td><td>UGT8</td>\n",
       "            </tr><tr>\n",
       "                <td><strong>Name</strong></td><td>G_UGT8</td>\n",
       "            </tr><tr>\n",
       "                <td><strong>Memory address</strong></td>\n",
       "                <td>0x14eb94cc250</td>\n",
       "            </tr><tr>\n",
       "                <td><strong>Functional</strong></td><td>True</td>\n",
       "            </tr><tr>\n",
       "                <td><strong>In 1 reaction(s)</strong></td><td>\n",
       "                    MAR00919\n",
       "                    </td>\n",
       "            </tr>\n",
       "        </table>"
      ],
      "text/plain": [
       "<Gene UGT8 at 0x14eb94cc250>"
      ]
     },
     "execution_count": 1,
     "metadata": {},
     "output_type": "execute_result"
    }
   ],
   "source": [
    "# Testing pre-pruned model download\n",
    "from pyGSLModel import download_GSL_model\n",
    "\n",
    "model_3 = download_GSL_model()\n",
    "\n",
    "print(f\"Number of Reactions in model : {len(model_3.reactions)}\")\n",
    "print(f\"Number of Metabolites in model : {len(model_3.metabolites)}\")\n",
    "print(f\"Number of Genes in model : {len(model_3.genes)}\")\n",
    "\n",
    "print(f\"Checking gene symbol conversion :\")\n",
    "model_3.genes.get_by_id(\"UGT8\")"
   ]
  },
  {
   "cell_type": "markdown",
   "id": "595d7091",
   "metadata": {},
   "source": [
    "### Testing performing simulations and analysing results"
   ]
  },
  {
   "cell_type": "markdown",
   "id": "6d3c2292",
   "metadata": {},
   "source": [
    "Performing a generic FBA simulation"
   ]
  },
  {
   "cell_type": "code",
   "execution_count": null,
   "id": "be546f0e",
   "metadata": {},
   "outputs": [],
   "source": [
    "from pyGSLModel import run_metabolic_model, tabulate_model_results, plot_model_results\n",
    "\n",
    "# Running Basic simulation\n",
    "sol_1 = run_metabolic_model(model_3, method=\"FBA\",objective_choice=\"D14_Neuron\")\n",
    "\n",
    "# Preparing dataframe\n",
    "results_1 = tabulate_model_results(model_3,sol_1)\n",
    "print(results_1.head())\n",
    "\n",
    "# Generating plot\n",
    "fig_1 = plot_model_results(results_1)\n",
    "fig_1"
   ]
  },
  {
   "cell_type": "markdown",
   "id": "a4ff3728",
   "metadata": {},
   "source": [
    "Performing a knockout simulation"
   ]
  },
  {
   "cell_type": "code",
   "execution_count": null,
   "id": "a2619228",
   "metadata": {},
   "outputs": [],
   "source": [
    "from pyGSLModel import run_metabolic_model, tabulate_model_results, plot_model_results\n",
    "\n",
    "# Running Basic simulation\n",
    "sol_2 = run_metabolic_model(model_3, method=\"FBA\",objective_choice=\"AC\",knockout=\"B4GALNT1\")\n",
    "\n",
    "# Preparing dataframe\n",
    "results_2 = tabulate_model_results(model_3,sol_2)\n",
    "print(results_2.head())\n",
    "\n",
    "# Generating plot\n",
    "fig_2 = plot_model_results(results_2)\n",
    "fig_2"
   ]
  },
  {
   "cell_type": "markdown",
   "id": "077184cc",
   "metadata": {},
   "source": [
    "Performing mFBA simulation"
   ]
  },
  {
   "cell_type": "code",
   "execution_count": null,
   "id": "f8b78310",
   "metadata": {},
   "outputs": [],
   "source": [
    "from pyGSLModel import run_metabolic_model, tabulate_model_results, plot_model_results\n",
    "\n",
    "# Running Basic simulation\n",
    "sol_3 = run_metabolic_model(model_3, method=\"mFBA\",objective_choice=\"D14_Neuron\")\n",
    "\n",
    "# Preparing dataframe\n",
    "results_3 = tabulate_model_results(model_3,sol_3)\n",
    "print(results_3.head())\n",
    "\n",
    "# Generating plot\n",
    "fig_3 = plot_model_results(results_3)\n",
    "fig_3"
   ]
  },
  {
   "cell_type": "markdown",
   "id": "59c2060f",
   "metadata": {},
   "source": [
    "Testing network visualisation. This saves a .html file"
   ]
  },
  {
   "cell_type": "code",
   "execution_count": null,
   "id": "346cdd0c",
   "metadata": {},
   "outputs": [],
   "source": [
    "from pyGSLModel import visualise_flux_network\n",
    "\n",
    "visualise_flux_network(model_3,sol_3,file_path=\"./flux_network_test.html\",height=\"1080px\",width=\"100%\")\n"
   ]
  },
  {
   "cell_type": "markdown",
   "id": "73b8327c",
   "metadata": {},
   "source": [
    "### Transcriptomic integration testing"
   ]
  },
  {
   "cell_type": "markdown",
   "id": "1e2b522f",
   "metadata": {},
   "source": [
    "Testing standard iMAT integration"
   ]
  },
  {
   "cell_type": "code",
   "execution_count": 4,
   "id": "e964260f",
   "metadata": {},
   "outputs": [
    {
     "data": {
      "text/html": [
       "<div>\n",
       "<style scoped>\n",
       "    .dataframe tbody tr th:only-of-type {\n",
       "        vertical-align: middle;\n",
       "    }\n",
       "\n",
       "    .dataframe tbody tr th {\n",
       "        vertical-align: top;\n",
       "    }\n",
       "\n",
       "    .dataframe thead th {\n",
       "        text-align: right;\n",
       "    }\n",
       "</style>\n",
       "<table border=\"1\" class=\"dataframe\">\n",
       "  <thead>\n",
       "    <tr style=\"text-align: right;\">\n",
       "      <th></th>\n",
       "      <th>Reaction ID</th>\n",
       "      <th>Reactants</th>\n",
       "      <th>Products</th>\n",
       "      <th>Key Product</th>\n",
       "      <th>Genes</th>\n",
       "      <th>Flux (mmol/gDW/hr)</th>\n",
       "      <th>Relative GSL Flux (%)</th>\n",
       "    </tr>\n",
       "  </thead>\n",
       "  <tbody>\n",
       "    <tr>\n",
       "      <th>0</th>\n",
       "      <td>MAR08147</td>\n",
       "      <td>MAM01972g (glucosylceramide pool), MAM03107g (...</td>\n",
       "      <td>MAM02039g (H+), MAM02328g (LacCer pool), MAM03...</td>\n",
       "      <td>LacCer pool</td>\n",
       "      <td>B3GNT3</td>\n",
       "      <td>4.0</td>\n",
       "      <td>20.0</td>\n",
       "    </tr>\n",
       "    <tr>\n",
       "      <th>14</th>\n",
       "      <td>MAR08184</td>\n",
       "      <td>MAM01592g (CMP-N-acetylneuraminate), MAM02328g...</td>\n",
       "      <td>MAM01590g (CMP), MAM02015g (GM3), MAM02039g (H+)</td>\n",
       "      <td>GM3</td>\n",
       "      <td>ST3GAL5</td>\n",
       "      <td>3.0</td>\n",
       "      <td>15.0</td>\n",
       "    </tr>\n",
       "    <tr>\n",
       "      <th>10</th>\n",
       "      <td>MAR08179</td>\n",
       "      <td>MAM01592g (CMP-N-acetylneuraminate), MAM02015g...</td>\n",
       "      <td>MAM01590g (CMP), MAM01947g (GD3), MAM02039g (H+)</td>\n",
       "      <td>GD3</td>\n",
       "      <td>ST8SIA1</td>\n",
       "      <td>2.0</td>\n",
       "      <td>10.0</td>\n",
       "    </tr>\n",
       "    <tr>\n",
       "      <th>4</th>\n",
       "      <td>MAR08165</td>\n",
       "      <td>MAM02328g (LacCer pool), MAM03110g (UDP-N-acet...</td>\n",
       "      <td>MAM01905g (GA2), MAM02039g (H+), MAM03106g (UDP)</td>\n",
       "      <td>GA2</td>\n",
       "      <td>B4GALNT1</td>\n",
       "      <td>1.0</td>\n",
       "      <td>5.0</td>\n",
       "    </tr>\n",
       "    <tr>\n",
       "      <th>15</th>\n",
       "      <td>MAR08185</td>\n",
       "      <td>MAM02011g (GM2), MAM03107g (UDP-galactose)</td>\n",
       "      <td>MAM02008g (GM1), MAM02039g (H+), MAM03106g (UDP)</td>\n",
       "      <td>GM1</td>\n",
       "      <td>B3GALT4</td>\n",
       "      <td>1.0</td>\n",
       "      <td>5.0</td>\n",
       "    </tr>\n",
       "  </tbody>\n",
       "</table>\n",
       "</div>"
      ],
      "text/plain": [
       "   Reaction ID                                          Reactants  \\\n",
       "0     MAR08147  MAM01972g (glucosylceramide pool), MAM03107g (...   \n",
       "14    MAR08184  MAM01592g (CMP-N-acetylneuraminate), MAM02328g...   \n",
       "10    MAR08179  MAM01592g (CMP-N-acetylneuraminate), MAM02015g...   \n",
       "4     MAR08165  MAM02328g (LacCer pool), MAM03110g (UDP-N-acet...   \n",
       "15    MAR08185         MAM02011g (GM2), MAM03107g (UDP-galactose)   \n",
       "\n",
       "                                             Products  Key Product     Genes  \\\n",
       "0   MAM02039g (H+), MAM02328g (LacCer pool), MAM03...  LacCer pool    B3GNT3   \n",
       "14   MAM01590g (CMP), MAM02015g (GM3), MAM02039g (H+)          GM3   ST3GAL5   \n",
       "10   MAM01590g (CMP), MAM01947g (GD3), MAM02039g (H+)          GD3   ST8SIA1   \n",
       "4    MAM01905g (GA2), MAM02039g (H+), MAM03106g (UDP)          GA2  B4GALNT1   \n",
       "15   MAM02008g (GM1), MAM02039g (H+), MAM03106g (UDP)          GM1   B3GALT4   \n",
       "\n",
       "    Flux (mmol/gDW/hr)  Relative GSL Flux (%)  \n",
       "0                  4.0                   20.0  \n",
       "14                 3.0                   15.0  \n",
       "10                 2.0                   10.0  \n",
       "4                  1.0                    5.0  \n",
       "15                 1.0                    5.0  "
      ]
     },
     "execution_count": 4,
     "metadata": {},
     "output_type": "execute_result"
    }
   ],
   "source": [
    "import pandas as pd\n",
    "# Making a dummy dataframe\n",
    "d = {\n",
    "    \"Gene\" : [\"B4GALNT1\", \"ST3GAL5\", \"ST8SIA1\",\"A4GALT\"],\n",
    "    \"Sample_1\" : [8,6,4,2]\n",
    "}\n",
    "\n",
    "# Converting the dictionary to a pandas dataframe and setting the index to Gene\n",
    "iMAT_df_1 = pd.DataFrame(d)\n",
    "iMAT_df_1 = iMAT_df_1.set_index(\"Gene\").copy()\n",
    "\n",
    "from pyGSLModel import iMAT_integrate, tabulate_model_results\n",
    "sol_4 = iMAT_integrate(model_3,iMAT_df_1)\n",
    "\n",
    "results_4 = tabulate_model_results(model_3, sol_4)\n",
    "results_4.head()"
   ]
  },
  {
   "cell_type": "markdown",
   "id": "3cec9d41",
   "metadata": {},
   "source": [
    "Testing multi sample iMat integration with a dummy dataframe"
   ]
  },
  {
   "cell_type": "code",
   "execution_count": 5,
   "id": "1a999874",
   "metadata": {},
   "outputs": [
    {
     "name": "stdout",
     "output_type": "stream",
     "text": [
      "Simulations Performed:1/4\n",
      "Simulations Performed:2/4\n",
      "Simulations Performed:3/4\n",
      "Simulations Performed:4/4\n"
     ]
    },
    {
     "data": {
      "text/html": [
       "<div>\n",
       "<style scoped>\n",
       "    .dataframe tbody tr th:only-of-type {\n",
       "        vertical-align: middle;\n",
       "    }\n",
       "\n",
       "    .dataframe tbody tr th {\n",
       "        vertical-align: top;\n",
       "    }\n",
       "\n",
       "    .dataframe thead th {\n",
       "        text-align: right;\n",
       "    }\n",
       "</style>\n",
       "<table border=\"1\" class=\"dataframe\">\n",
       "  <thead>\n",
       "    <tr style=\"text-align: right;\">\n",
       "      <th>Key Product</th>\n",
       "      <th>LacCer pool</th>\n",
       "      <th>GM3</th>\n",
       "      <th>GD3</th>\n",
       "      <th>GA2</th>\n",
       "      <th>GM1</th>\n",
       "      <th>GD1a</th>\n",
       "      <th>GM2</th>\n",
       "      <th>GD2</th>\n",
       "      <th>GT1c</th>\n",
       "      <th>GQ1c</th>\n",
       "      <th>...</th>\n",
       "      <th>GT1a</th>\n",
       "      <th>globotriaosylceramide</th>\n",
       "      <th>GQ1b</th>\n",
       "      <th>GD1c</th>\n",
       "      <th>GD1alpha</th>\n",
       "      <th>GM1b</th>\n",
       "      <th>GA1</th>\n",
       "      <th>galactosylgloboside</th>\n",
       "      <th>globoside</th>\n",
       "      <th>sialyl-3-paragloboside</th>\n",
       "    </tr>\n",
       "    <tr>\n",
       "      <th>Sample</th>\n",
       "      <th></th>\n",
       "      <th></th>\n",
       "      <th></th>\n",
       "      <th></th>\n",
       "      <th></th>\n",
       "      <th></th>\n",
       "      <th></th>\n",
       "      <th></th>\n",
       "      <th></th>\n",
       "      <th></th>\n",
       "      <th></th>\n",
       "      <th></th>\n",
       "      <th></th>\n",
       "      <th></th>\n",
       "      <th></th>\n",
       "      <th></th>\n",
       "      <th></th>\n",
       "      <th></th>\n",
       "      <th></th>\n",
       "      <th></th>\n",
       "      <th></th>\n",
       "    </tr>\n",
       "  </thead>\n",
       "  <tbody>\n",
       "    <tr>\n",
       "      <th>Sample_1</th>\n",
       "      <td>4.000000</td>\n",
       "      <td>3.000000</td>\n",
       "      <td>2.00</td>\n",
       "      <td>1.0</td>\n",
       "      <td>1.000000</td>\n",
       "      <td>1.000000</td>\n",
       "      <td>1.000000</td>\n",
       "      <td>1.0</td>\n",
       "      <td>1.0</td>\n",
       "      <td>1.0</td>\n",
       "      <td>...</td>\n",
       "      <td>0.0</td>\n",
       "      <td>0.0</td>\n",
       "      <td>0.0</td>\n",
       "      <td>0.0</td>\n",
       "      <td>0.0</td>\n",
       "      <td>0.0</td>\n",
       "      <td>0.0</td>\n",
       "      <td>0.0</td>\n",
       "      <td>0.0</td>\n",
       "      <td>0.0</td>\n",
       "    </tr>\n",
       "    <tr>\n",
       "      <th>Sample_2</th>\n",
       "      <td>1.000000</td>\n",
       "      <td>0.000000</td>\n",
       "      <td>0.00</td>\n",
       "      <td>0.0</td>\n",
       "      <td>0.000000</td>\n",
       "      <td>0.000000</td>\n",
       "      <td>0.000000</td>\n",
       "      <td>0.0</td>\n",
       "      <td>0.0</td>\n",
       "      <td>0.0</td>\n",
       "      <td>...</td>\n",
       "      <td>0.0</td>\n",
       "      <td>1.0</td>\n",
       "      <td>0.0</td>\n",
       "      <td>0.0</td>\n",
       "      <td>0.0</td>\n",
       "      <td>0.0</td>\n",
       "      <td>0.0</td>\n",
       "      <td>0.0</td>\n",
       "      <td>1.0</td>\n",
       "      <td>0.0</td>\n",
       "    </tr>\n",
       "    <tr>\n",
       "      <th>Sample_3</th>\n",
       "      <td>63.768555</td>\n",
       "      <td>62.768555</td>\n",
       "      <td>1.00</td>\n",
       "      <td>0.0</td>\n",
       "      <td>61.768555</td>\n",
       "      <td>61.768555</td>\n",
       "      <td>61.768555</td>\n",
       "      <td>0.0</td>\n",
       "      <td>0.0</td>\n",
       "      <td>0.0</td>\n",
       "      <td>...</td>\n",
       "      <td>0.0</td>\n",
       "      <td>1.0</td>\n",
       "      <td>0.0</td>\n",
       "      <td>0.0</td>\n",
       "      <td>0.0</td>\n",
       "      <td>0.0</td>\n",
       "      <td>0.0</td>\n",
       "      <td>1.0</td>\n",
       "      <td>1.0</td>\n",
       "      <td>0.0</td>\n",
       "    </tr>\n",
       "    <tr>\n",
       "      <th>Sample_4</th>\n",
       "      <td>1.000000</td>\n",
       "      <td>1.000000</td>\n",
       "      <td>0.01</td>\n",
       "      <td>0.0</td>\n",
       "      <td>0.990000</td>\n",
       "      <td>0.990000</td>\n",
       "      <td>0.990000</td>\n",
       "      <td>0.0</td>\n",
       "      <td>0.0</td>\n",
       "      <td>0.0</td>\n",
       "      <td>...</td>\n",
       "      <td>0.0</td>\n",
       "      <td>0.0</td>\n",
       "      <td>0.0</td>\n",
       "      <td>0.0</td>\n",
       "      <td>0.0</td>\n",
       "      <td>0.0</td>\n",
       "      <td>0.0</td>\n",
       "      <td>0.0</td>\n",
       "      <td>0.0</td>\n",
       "      <td>0.0</td>\n",
       "    </tr>\n",
       "  </tbody>\n",
       "</table>\n",
       "<p>4 rows × 27 columns</p>\n",
       "</div>"
      ],
      "text/plain": [
       "Key Product  LacCer pool        GM3   GD3  GA2        GM1       GD1a  \\\n",
       "Sample                                                                 \n",
       "Sample_1        4.000000   3.000000  2.00  1.0   1.000000   1.000000   \n",
       "Sample_2        1.000000   0.000000  0.00  0.0   0.000000   0.000000   \n",
       "Sample_3       63.768555  62.768555  1.00  0.0  61.768555  61.768555   \n",
       "Sample_4        1.000000   1.000000  0.01  0.0   0.990000   0.990000   \n",
       "\n",
       "Key Product        GM2  GD2  GT1c  GQ1c  ...  GT1a  globotriaosylceramide  \\\n",
       "Sample                                   ...                                \n",
       "Sample_1      1.000000  1.0   1.0   1.0  ...   0.0                    0.0   \n",
       "Sample_2      0.000000  0.0   0.0   0.0  ...   0.0                    1.0   \n",
       "Sample_3     61.768555  0.0   0.0   0.0  ...   0.0                    1.0   \n",
       "Sample_4      0.990000  0.0   0.0   0.0  ...   0.0                    0.0   \n",
       "\n",
       "Key Product  GQ1b  GD1c  GD1alpha  GM1b  GA1  galactosylgloboside  globoside  \\\n",
       "Sample                                                                         \n",
       "Sample_1      0.0   0.0       0.0   0.0  0.0                  0.0        0.0   \n",
       "Sample_2      0.0   0.0       0.0   0.0  0.0                  0.0        1.0   \n",
       "Sample_3      0.0   0.0       0.0   0.0  0.0                  1.0        1.0   \n",
       "Sample_4      0.0   0.0       0.0   0.0  0.0                  0.0        0.0   \n",
       "\n",
       "Key Product  sialyl-3-paragloboside  \n",
       "Sample                               \n",
       "Sample_1                        0.0  \n",
       "Sample_2                        0.0  \n",
       "Sample_3                        0.0  \n",
       "Sample_4                        0.0  \n",
       "\n",
       "[4 rows x 27 columns]"
      ]
     },
     "execution_count": 5,
     "metadata": {},
     "output_type": "execute_result"
    }
   ],
   "source": [
    "import pandas as pd\n",
    "# Making a dummy dataframe\n",
    "d = {\n",
    "    \"Gene\" : [\"B4GALNT1\", \"ST3GAL5\", \"ST8SIA1\",\"A4GALT\"],\n",
    "    \"Sample_1\" : [8,6,4,2],\n",
    "    \"Sample_2\" : [2,4,6,8],\n",
    "    \"Sample_3\" : [6,2,8,4],\n",
    "    \"Sample_4\" : [4,8,2,6]\n",
    "}\n",
    "\n",
    "# Converting the dictionary to a pandas dataframe and setting the index to Gene\n",
    "iMAT_df_1 = pd.DataFrame(d)\n",
    "iMAT_df_1 = iMAT_df_1.set_index(\"Gene\").copy()\n",
    "\n",
    "# Performing the iMAT integration for the custom data\n",
    "from pyGSLModel import iMAT_multi_integrate\n",
    "iMAT_res_1 = iMAT_multi_integrate(model_3, iMAT_df_1)\n",
    "\n",
    "iMAT_res_1"
   ]
  },
  {
   "cell_type": "markdown",
   "id": "6be14e7f",
   "metadata": {},
   "source": [
    "Testing average TCGA integration with iMAT"
   ]
  },
  {
   "cell_type": "code",
   "execution_count": null,
   "id": "3e279cde",
   "metadata": {},
   "outputs": [],
   "source": [
    "from pyGSLModel import TCGA_iMAT_integrate\n",
    "\n",
    "# Lets adjust upper and lower quantiles here to select the top and bottom 15% of genes instead. We're going to leave epsilon and threshold alone\n",
    "iMAT_TCGA_1 = TCGA_iMAT_integrate(model_3, upper_quantile=0.15,lower_quantile=0.85)\n",
    "\n",
    "iMAT_TCGA_1.head()"
   ]
  },
  {
   "cell_type": "markdown",
   "id": "cf05f8af",
   "metadata": {},
   "source": [
    "Testing sample wise iMAT integration of TCGA data"
   ]
  },
  {
   "cell_type": "code",
   "execution_count": null,
   "id": "9bdaab7d",
   "metadata": {},
   "outputs": [],
   "source": [
    "from pyGSLModel import TCGA_iMAT_sample_integrate\n",
    "\n",
    "# Selecting Bile duct for tissue argument as this has fewer samples (Brain has something like 2000 so takes a while). Leaving other arguments as default\n",
    "iMAT_TCGA_sample = TCGA_iMAT_sample_integrate(model_3, tissue=\"Bile duct\")\n",
    "\n",
    "iMAT_TCGA_sample.head()"
   ]
  }
 ],
 "metadata": {
  "kernelspec": {
   "display_name": "Python 3",
   "language": "python",
   "name": "python3"
  },
  "language_info": {
   "codemirror_mode": {
    "name": "ipython",
    "version": 3
   },
   "file_extension": ".py",
   "mimetype": "text/x-python",
   "name": "python",
   "nbconvert_exporter": "python",
   "pygments_lexer": "ipython3",
   "version": "3.11.11"
  }
 },
 "nbformat": 4,
 "nbformat_minor": 5
}
