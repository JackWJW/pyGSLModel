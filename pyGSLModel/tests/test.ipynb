{
 "cells": [
  {
   "cell_type": "markdown",
   "id": "6b0bb6bc",
   "metadata": {},
   "source": [
    "# Testing document for pyGSLModel"
   ]
  },
  {
   "cell_type": "markdown",
   "id": "3f762190",
   "metadata": {},
   "source": [
    "### Testing model download and pruning functions"
   ]
  },
  {
   "cell_type": "markdown",
   "id": "a69c33ec",
   "metadata": {},
   "source": [
    "Standard HUMAN-GEM model downlaod test"
   ]
  },
  {
   "cell_type": "code",
   "execution_count": null,
   "id": "a311f9e0",
   "metadata": {},
   "outputs": [],
   "source": [
    "# Downloading standard Human-GEM model\n",
    "from pyGSLModel import download_model\n",
    "\n",
    "model_1 = download_model()\n",
    "\n",
    "print(f\"Number of Reactions in model : {len(model_1.reactions)}\")\n",
    "print(f\"Number of Metabolites in model : {len(model_1.metabolites)}\")\n",
    "print(f\"Number of Genes in model : {len(model_1.genes)}\")"
   ]
  },
  {
   "cell_type": "markdown",
   "id": "1db70d81",
   "metadata": {},
   "source": [
    "Converting gene symbols, model pruning, and removing transport reactions test"
   ]
  },
  {
   "cell_type": "code",
   "execution_count": null,
   "id": "f70a0396",
   "metadata": {},
   "outputs": [],
   "source": [
    "# Converting gene names, pruning the model and removing GSl transport reactions\n",
    "from pyGSLModel import convert_genes, prune_model, remove_GSL_transport\n",
    "\n",
    "model_2 = convert_genes(model_1)\n",
    "model_2 = prune_model(model_2)\n",
    "model_2 = remove_GSL_transport(model_2)\n",
    "\n",
    "print(f\"Number of Reactions in model : {len(model_1.reactions)}\")\n",
    "print(f\"Number of Metabolites in model : {len(model_1.metabolites)}\")\n",
    "print(f\"Number of Genes in model : {len(model_1.genes)}\")\n",
    "\n",
    "print(f\"Checking gene symbol conversion :\")\n",
    "model_1.genes.get_by_id(\"B4GALNT1\")"
   ]
  },
  {
   "cell_type": "markdown",
   "id": "a06337d2",
   "metadata": {},
   "source": [
    "Testing download of pre-pruned model"
   ]
  },
  {
   "cell_type": "code",
   "execution_count": null,
   "id": "fb1d8016",
   "metadata": {},
   "outputs": [],
   "source": [
    "# Testing pre-pruned model download\n",
    "from pyGSLModel import download_GSL_model\n",
    "\n",
    "model_3 = download_GSL_model()\n",
    "\n",
    "print(f\"Number of Reactions in model : {len(model_3.reactions)}\")\n",
    "print(f\"Number of Metabolites in model : {len(model_3.metabolites)}\")\n",
    "print(f\"Number of Genes in model : {len(model_3.genes)}\")\n",
    "\n",
    "print(f\"Checking gene symbol conversion :\")\n",
    "model_3.genes.get_by_id(\"B4GALNT1\")"
   ]
  },
  {
   "cell_type": "markdown",
   "id": "595d7091",
   "metadata": {},
   "source": [
    "### Testing performing simulations and analysing results"
   ]
  },
  {
   "cell_type": "markdown",
   "id": "6d3c2292",
   "metadata": {},
   "source": [
    "Performing a generic simulation"
   ]
  },
  {
   "cell_type": "code",
   "execution_count": null,
   "id": "be546f0e",
   "metadata": {},
   "outputs": [],
   "source": [
    "from pyGSLModel import run_metabolic_model\n",
    "\n",
    "\n",
    "sol_1 = run_metabolic_model(model_3, method=\"LFBA\")"
   ]
  },
  {
   "cell_type": "code",
   "execution_count": null,
   "id": "1a999874",
   "metadata": {},
   "outputs": [],
   "source": [
    "import pandas as pd\n",
    "# Making a dummy dataframe\n",
    "d = {\n",
    "    \"Gene\" : [\"B4GALNT1\", \"ST3GAL5\", \"ST8SIA1\"],\n",
    "    \"Sample_1\" : [10,5,1],\n",
    "    \"Sample_2\" : [1,5,10]\n",
    "}\n",
    "\n",
    "test_df = pd.DataFrame(d)\n",
    "\n",
    "test_df = test_df.set_index(\"Gene\")\n",
    "\n",
    "test_df"
   ]
  },
  {
   "cell_type": "code",
   "execution_count": null,
   "id": "675fca1d",
   "metadata": {},
   "outputs": [],
   "source": [
    "from pyGSLModel import iMAT_integrate\n",
    "\n",
    "imat_test = iMAT_integrate(model, test_df)"
   ]
  },
  {
   "cell_type": "code",
   "execution_count": null,
   "id": "ad070b88",
   "metadata": {},
   "outputs": [],
   "source": [
    "imat_test"
   ]
  },
  {
   "cell_type": "code",
   "execution_count": null,
   "id": "872e6f36",
   "metadata": {},
   "outputs": [],
   "source": [
    "from pyGSLModel import run_metabolic_model, tabulate_model_results, plot_model_results\n",
    "\n",
    "sol = run_metabolic_model(model, method=\"mFBA\", objective_choice=\"D28_Neuron\")\n",
    "\n",
    "results_df = tabulate_model_results(model,sol)\n",
    "\n",
    "plot_model_results(results_df)\n"
   ]
  }
 ],
 "metadata": {
  "kernelspec": {
   "display_name": ".conda",
   "language": "python",
   "name": "python3"
  },
  "language_info": {
   "codemirror_mode": {
    "name": "ipython",
    "version": 3
   },
   "file_extension": ".py",
   "mimetype": "text/x-python",
   "name": "python",
   "nbconvert_exporter": "python",
   "pygments_lexer": "ipython3",
   "version": "3.11.11"
  }
 },
 "nbformat": 4,
 "nbformat_minor": 5
}
